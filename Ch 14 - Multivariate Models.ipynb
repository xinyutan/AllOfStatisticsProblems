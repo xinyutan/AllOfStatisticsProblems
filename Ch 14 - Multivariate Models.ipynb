{
 "cells": [
  {
   "cell_type": "code",
   "execution_count": 2,
   "metadata": {},
   "outputs": [],
   "source": [
    "%matplotlib inline\n",
    "import numpy as np\n",
    "import matplotlib.pyplot as plt"
   ]
  },
  {
   "cell_type": "markdown",
   "metadata": {},
   "source": [
    "### 1 Prove Theorem 14.1\n",
    "\n",
    "The case for expectation is fairly straightforward. Let's prove: \n",
    "$$\n",
    "\\mathbb{V}(a^TX) = a^T \\Sigma a\n",
    "$$\n",
    "and \n",
    "$$\n",
    "\\mathbb{V}(AX) = A \\Sigma A\n",
    "$$\n",
    "where $\\Sigma$ is the covariance matrix."
   ]
  },
  {
   "cell_type": "markdown",
   "metadata": {},
   "source": [
    "#### 1)\n",
    "\n",
    "$$\n",
    "a^T X = \\begin{pmatrix}a_1 & \\cdots & a_k\\end{pmatrix} \\begin{pmatrix} X_1 \\\\ \\vdots \\\\ X_k \\end{pmatrix} = \\sum_{i=1}^k a_i X_i\n",
    "$$ \n",
    "\n",
    "Then, we have\n",
    "$$\n",
    "\\begin{align}\n",
    "\\mathbb{V}\\left(a^T X\\right) &= \\mathbb{V}\\left( \\sum_{i=1}^k a_i X_i \\right) \\\\\n",
    "&= \\mathbb{E}\\left(\\left( \\sum_{i=1}^k a_i X_i \\right)^2\\right) - \\left(\\mathbb{E}\\left( \\sum_{i=1}^k a_i X_i \\right)\\right)^2 \\\\\n",
    "&= \\mathbb{E} \\left(\\sum_{i=1}^k \\sum_{j=1}^k a_i a_j X_i X_j \\right) - \\sum_{l=1}^k \\sum_{m=1}^k a_l a_m \\mathbb{E}(X_l)\\mathbb{E}(X_m) \\\\\n",
    "&= \\sum_{i=1}^k \\sum_{j=1}^k a_i a_j \\left( \\mathbb{E}(X_iX_j) -  \\mathbb{E}(X_i)\\mathbb{E}(X_j) \\right) \\\\\n",
    "&= \\begin{pmatrix} a_1 & \\cdots & a_k \\end{pmatrix} \n",
    "\\begin{pmatrix} \n",
    "\\mathbb V(X_1) & \\text{Cov}(X_1, X_2) & \\cdots & \\text{Cov}(X_1, X_k) \\\\\n",
    "\\vdots & \\vdots & \\vdots & \\vdots \\\\\n",
    "\\text{Cov}(X_k, X_1) & \\text{Cov}(X_k, X_2) & \\cdots & \\mathbb V(X_k)\n",
    "\\end{pmatrix}\n",
    "\\begin{pmatrix} a_1 \\\\ \\vdots \\\\ a_k \\end{pmatrix} \\\\\n",
    "&= a^T \\Sigma a\n",
    "\\end{align}\n",
    "$$"
   ]
  },
  {
   "cell_type": "markdown",
   "metadata": {},
   "source": [
    "#### 2)\n",
    "\n",
    "Suppose $A$ is $m\\times k$ matrix, then we can write:\n",
    "$$\n",
    "AX = \\begin{pmatrix}A_{1\\cdot} \\\\ \\vdots \\\\ A_{m\\cdot}\\end{pmatrix} X = \\begin{pmatrix}A_{1\\cdot}X \\\\ \\vdots \\\\ A_{m\\cdot}X\\end{pmatrix} \n",
    "$$\n",
    "where $A_{i\\cdot}X = \\sum_{j=1}^k A_{ij}X_j$.\n",
    "\n",
    "From Eq.(14.2), we know the $\\{k, l\\}$ element for $\\mathbb{V}(AX)$\n",
    "\n",
    "1) $k=l$\n",
    "$$\n",
    "\\mathbb V(\\sum_{j=1}^k A_{kj}X_j) = A_{k\\cdot} \\Sigma A_{k\\cdot}^T\n",
    "$$\n",
    "\n",
    "2) $k\\neq l$\n",
    "$$\n",
    "\\text{Cov}(\\sum_{j=1}^k A_{kj}X_j, \\sum_{j=1}^k A_{lj}X_j) = A_{k\\cdot} \\Sigma A_{l\\cdot}^T\n",
    "$$\n",
    "\n",
    "Case 1) and 2) suggests that $\\mathbb{V}(AX)_{kl}$ is the $\\{k, l\\}$ element of $A\\Sigma A^T$, as $\\{k, l\\}$ element of $A\\Sigma A^T$ is\n",
    "$$\n",
    "\\sum_{i}\\sum_{j}A_{ki}\\Sigma_{ij}A_{jl}^T = \\sum_{i}\\sum_{j}A_{ki}\\Sigma_{ij}A_{lj} =  A_{k\\cdot} \\Sigma A_{l\\cdot}^T\n",
    "$$\n",
    "\n",
    "Hence,\n",
    "$$\n",
    "\\mathbb{V}(AX)_{kl} = A\\Sigma A^T\n",
    "$$"
   ]
  },
  {
   "cell_type": "markdown",
   "metadata": {},
   "source": [
    "### 5"
   ]
  },
  {
   "cell_type": "code",
   "execution_count": 15,
   "metadata": {
    "collapsed": true
   },
   "outputs": [],
   "source": [
    "mu = np.array((3,8))\n",
    "sigma = np.array([[1,1], [1, 2]])\n",
    "n = 100"
   ]
  },
  {
   "cell_type": "code",
   "execution_count": 39,
   "metadata": {},
   "outputs": [
    {
     "name": "stdout",
     "output_type": "stream",
     "text": [
      "shape of X:  (100, 2)\n",
      "mean estmimation [ 3.0603026   8.03905989]\n",
      "sigma estimation\n",
      " [[ 0.93156705  1.0376127 ]\n",
      " [ 1.0376127   2.12578204]]\n",
      "\n",
      " correlation between X1 and X2:  0.729968375227\n"
     ]
    }
   ],
   "source": [
    "X = np.random.multivariate_normal(mu, sigma, size=n)\n",
    "print(\"shape of X: \", X.shape)\n",
    "\n",
    "print(\"mean estmimation\", X.mean(axis=0))\n",
    "\n",
    "sigma_hat = 1/(n-1) * np.matmul((X - X.mean(axis=0, keepdims=True)).T, X-X.mean(axis=0, keepdims=True))\n",
    "print(\"sigma estimation\\n\", sigma_hat)\n",
    "\n",
    "X1 = X[:, 0]\n",
    "X2 = X[:, 1]\n",
    "sigma1 = np.sqrt(1/(n-1) * np.sum((X1-X1.mean())**2))\n",
    "sigma2 = np.sqrt(1/(n-1) * np.sum((X2-X2.mean())**2))\n",
    "\n",
    "rho = np.mean((X1-X1.mean())*(X2-X2.mean()))/(sigma1 * sigma2)\n",
    "\n",
    "print(\"\\n correlation between X1 and X2: \", rho)"
   ]
  },
  {
   "cell_type": "code",
   "execution_count": 41,
   "metadata": {},
   "outputs": [
    {
     "data": {
      "text/plain": [
       "Text(0,0.5,'X2')"
      ]
     },
     "execution_count": 41,
     "metadata": {},
     "output_type": "execute_result"
    },
    {
     "data": {
      "image/png": "[encoded data removed]",
      "text/plain": [
       "<matplotlib.figure.Figure at 0x10e9c0978>"
      ]
     },
     "metadata": {},
     "output_type": "display_data"
    }
   ],
   "source": [
    "plt.scatter(X1, X2)\n",
    "plt.xlabel('X1')\n",
    "plt.ylabel('X2')"
   ]
  },
  {
   "cell_type": "markdown",
   "metadata": {},
   "source": [
    "#### Fisher's method to find the 95% interval for $\\rho$"
   ]
  },
  {
   "cell_type": "code",
   "execution_count": 42,
   "metadata": {},
   "outputs": [
    {
     "data": {
      "text/plain": [
       "0.97500210485177952"
      ]
     },
     "execution_count": 42,
     "metadata": {},
     "output_type": "execute_result"
    }
   ],
   "source": [
    "from scipy.stats import norm\n",
    "\n",
    "norm.cdf(1.96)"
   ]
  },
  {
   "cell_type": "code",
   "execution_count": 44,
   "metadata": {},
   "outputs": [
    {
     "name": "stdout",
     "output_type": "stream",
     "text": [
      "0.729651814725 1.12766751146\n",
      "95 percent interval for rho is: (0.623, 0.810)\n"
     ]
    }
   ],
   "source": [
    "theta = 0.5 * (np.log(1+rho) - np.log(1-rho))\n",
    "se_theta = 1 / np.sqrt(n-3)\n",
    "a, b = theta - 1.96 * se_theta, theta + 1.96 * se_theta\n",
    "print(a, b)\n",
    "\n",
    "lrho, hrho = (np.exp(2*a)-1)/(np.exp(2*a)+1), (np.exp(2*b)-1)/(np.exp(2*b)+1)\n",
    "print(\"95 percent interval for rho is: (%.3f, %.3f)\"%(lrho, hrho))"
   ]
  },
  {
   "cell_type": "markdown",
   "metadata": {},
   "source": [
    "#### Bootstrap"
   ]
  },
  {
   "cell_type": "code",
   "execution_count": 67,
   "metadata": {
    "collapsed": true
   },
   "outputs": [],
   "source": [
    "B = 1000\n",
    "rho_B = []\n",
    "\n",
    "for _ in range(B):\n",
    "    order = np.random.choice(np.arange(100), size=n, replace=True)\n",
    "    X1b = X1[order]\n",
    "    X2b = X2[order]\n",
    "    sigma1b = np.sqrt(1/(n-1) * np.sum((X1b-X1b.mean())**2))\n",
    "    sigma2b = np.sqrt(1/(n-1) * np.sum((X2b-X2b.mean())**2))\n",
    "\n",
    "    rhob = np.mean((X1b-X1b.mean())*(X2b-X2b.mean()))/(sigma1b * sigma2b)\n",
    "    rho_B.append(rhob)"
   ]
  },
  {
   "cell_type": "code",
   "execution_count": 68,
   "metadata": {},
   "outputs": [
    {
     "name": "stdout",
     "output_type": "stream",
     "text": [
      "bootstrap interval for rho: (%.3f, %.3f) 0.622763177893 0.809890561509\n"
     ]
    }
   ],
   "source": [
    "rho_B = np.array(rho_B)\n",
    "print(\"bootstrap interval for rho: (%.3f, %.3f)\", np.percentile(rho_B, 2.5), np.percentile(rho_B, 97.5))"
   ]
  }
 ],
 "metadata": {
  "kernelspec": {
   "display_name": "Python 3",
   "language": "python",
   "name": "python3"
  },
  "language_info": {
   "codemirror_mode": {
    "name": "ipython",
    "version": 3
   },
   "file_extension": ".py",
   "mimetype": "text/x-python",
   "name": "python",
   "nbconvert_exporter": "python",
   "pygments_lexer": "ipython3",
   "version": "3.6.3"
  }
 },
 "nbformat": 4,
 "nbformat_minor": 2
}
