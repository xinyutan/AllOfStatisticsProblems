{
 "cells": [
  {
   "cell_type": "code",
   "execution_count": 1,
   "metadata": {
    "collapsed": true
   },
   "outputs": [],
   "source": [
    "%matplotlib inline\n",
    "import matplotlib.pyplot as plt\n",
    "import numpy as np"
   ]
  },
  {
   "cell_type": "code",
   "execution_count": 2,
   "metadata": {
    "collapsed": true
   },
   "outputs": [],
   "source": [
    "var = lambda x: np.mean((x - x.mean())**2)"
   ]
  },
  {
   "cell_type": "markdown",
   "metadata": {},
   "source": [
    "### 2"
   ]
  },
  {
   "cell_type": "code",
   "execution_count": 20,
   "metadata": {
    "collapsed": true
   },
   "outputs": [],
   "source": [
    "n = 50\n",
    "Y = np.random.normal(0, 1, n)\n",
    "X = np.exp(Y)\n",
    "B = 1000\n",
    "thhat = X.mean()"
   ]
  },
  {
   "cell_type": "code",
   "execution_count": 21,
   "metadata": {},
   "outputs": [
    {
     "data": {
      "text/plain": [
       "(array([ 40.,   5.,   2.,   1.,   2.]),\n",
       " array([  0.21046394,   2.56476701,   4.91907009,   7.27337316,\n",
       "          9.62767623,  11.98197931]),\n",
       " <a list of 5 Patch objects>)"
      ]
     },
     "execution_count": 21,
     "metadata": {},
     "output_type": "execute_result"
    },
    {
     "data": {
      "image/png": "[encoded data removed]",
      "text/plain": [
       "<matplotlib.figure.Figure at 0x10cfc7c88>"
      ]
     },
     "metadata": {},
     "output_type": "display_data"
    }
   ],
   "source": [
    "plt.hist(X, bins=5)"
   ]
  },
  {
   "cell_type": "code",
   "execution_count": 22,
   "metadata": {
    "collapsed": true
   },
   "outputs": [],
   "source": [
    "TB = []\n",
    "for _ in range(B):\n",
    "    XX = np.random.choice(X, size=n, replace=True)\n",
    "    TB.append(np.mean((XX-XX.mean())**3))\n",
    "TB = np.array(TB)"
   ]
  },
  {
   "cell_type": "code",
   "execution_count": 23,
   "metadata": {},
   "outputs": [
    {
     "name": "stdout",
     "output_type": "stream",
     "text": [
      "standard error:  16.979599951\n"
     ]
    }
   ],
   "source": [
    "se = np.sqrt(var(TB))\n",
    "print(\"standard error: \", se)"
   ]
  },
  {
   "cell_type": "code",
   "execution_count": 36,
   "metadata": {},
   "outputs": [
    {
     "name": "stdout",
     "output_type": "stream",
     "text": [
      "Normal interval:  -31.9818461951 35.9365536089\n",
      "Percentile interval:  5.36199396058 71.0520588622\n",
      "Pivotal interval:  -67.0973514483 9.31670137445\n"
     ]
    }
   ],
   "source": [
    "print(\"Normal interval: \", thhat - 2 * se, thhat + 2 * se)\n",
    "print(\"Percentile interval: \", np.percentile(TB, 2.5), np.percentile(TB, 97.5))\n",
    "print(\"Pivotal interval: \", 2*thhat-np.percentile(TB, 97.5), 2*thhat+np.percentile(TB, 2.5))"
   ]
  },
  {
   "cell_type": "markdown",
   "metadata": {
    "collapsed": true
   },
   "source": [
    "### 6"
   ]
  },
  {
   "cell_type": "code",
   "execution_count": 9,
   "metadata": {
    "collapsed": true
   },
   "outputs": [],
   "source": [
    "n = 100\n",
    "X = np.random.normal(5, 1, n)\n",
    "thetahat = np.exp(X.mean())"
   ]
  },
  {
   "cell_type": "code",
   "execution_count": 10,
   "metadata": {},
   "outputs": [],
   "source": [
    "B = 1000\n",
    "thetaB = np.zeros((B, ))\n",
    "for i in range(B):\n",
    "    XX = np.random.choice(X, size=n, replace=True)\n",
    "    thetaB[i] = np.exp(XX.mean())"
   ]
  },
  {
   "cell_type": "code",
   "execution_count": 13,
   "metadata": {},
   "outputs": [
    {
     "name": "stdout",
     "output_type": "stream",
     "text": [
      "estimate of theta:  140.035738553\n",
      "standard error of theta:  14.9659280882\n"
     ]
    }
   ],
   "source": [
    "se = np.sqrt(var(thetaB))\n",
    "print(\"estimate of theta: \", thetahat)\n",
    "print(\"standard error of theta: \", se)"
   ]
  },
  {
   "cell_type": "code",
   "execution_count": 30,
   "metadata": {},
   "outputs": [
    {
     "name": "stdout",
     "output_type": "stream",
     "text": [
      "normal 95% confidence interval: (110.103882, 169.967595)\n"
     ]
    }
   ],
   "source": [
    "# normal confidence interval\n",
    "print('normal 95% confidence interval: ({0:3f}, {1:3f})'.format(thetahat - 2*se, thetahat + 2*se))"
   ]
  },
  {
   "cell_type": "code",
   "execution_count": 31,
   "metadata": {},
   "outputs": [
    {
     "name": "stdout",
     "output_type": "stream",
     "text": [
      "percentile 95% confidence interval: (114.425900, 171.989002)\n"
     ]
    }
   ],
   "source": [
    "# percentile\n",
    "print('percentile 95% confidence interval: ({0:3f}, {1:3f})'.format(np.percentile(thetaB, 2.5), \n",
    "                                                                    np.percentile(thetaB, 97.5)))"
   ]
  },
  {
   "cell_type": "code",
   "execution_count": 32,
   "metadata": {},
   "outputs": [
    {
     "name": "stdout",
     "output_type": "stream",
     "text": [
      "pivotal 95% confidence interval: (108.082475, 165.645577)\n"
     ]
    }
   ],
   "source": [
    "# pivotal\n",
    "print('pivotal 95% confidence interval: ({0:3f}, {1:3f})'.format(2*thetahat - np.percentile(thetaB, 97.5), \n",
    "                                                                2*thetahat - np.percentile(thetaB, 2.5)))"
   ]
  },
  {
   "cell_type": "code",
   "execution_count": 35,
   "metadata": {},
   "outputs": [
    {
     "data": {
      "text/plain": [
       "Text(0.5,1,'Histogram of Bootstrap Replications')"
      ]
     },
     "execution_count": 35,
     "metadata": {},
     "output_type": "execute_result"
    },
    {
     "data": {
      "image/png": "[encoded data removed]",
      "text/plain": [
       "<matplotlib.figure.Figure at 0x11add17b8>"
      ]
     },
     "metadata": {},
     "output_type": "display_data"
    }
   ],
   "source": [
    "plt.hist(thetaB, bins=20)\n",
    "plt.title(\"Histogram of Bootstrap Replications\")"
   ]
  },
  {
   "cell_type": "code",
   "execution_count": 37,
   "metadata": {},
   "outputs": [
    {
     "data": {
      "text/plain": [
       "Text(0.5,1,'Histogram of True Sampling Distribution')"
      ]
     },
     "execution_count": 37,
     "metadata": {},
     "output_type": "execute_result"
    },
    {
     "data": {
      "image/png": "[encoded data removed]",
      "text/plain": [
       "<matplotlib.figure.Figure at 0x11ab7b668>"
      ]
     },
     "metadata": {},
     "output_type": "display_data"
    }
   ],
   "source": [
    "# true sampling distribution of theta\n",
    "thetatrue = np.zeros((B,))\n",
    "for i in range(B):\n",
    "    Xr = np.random.normal(5, 1, n)\n",
    "    thetatrue[i] = np.exp(Xr.mean())\n",
    "\n",
    "plt.hist(thetatrue, bins=20)\n",
    "plt.title(\"Histogram of True Sampling Distribution\")"
   ]
  },
  {
   "cell_type": "code",
   "execution_count": null,
   "metadata": {
    "collapsed": true
   },
   "outputs": [],
   "source": []
  }
 ],
 "metadata": {
  "kernelspec": {
   "display_name": "Python 3",
   "language": "python",
   "name": "python3"
  },
  "language_info": {
   "codemirror_mode": {
    "name": "ipython",
    "version": 3
   },
   "file_extension": ".py",
   "mimetype": "text/x-python",
   "name": "python",
   "nbconvert_exporter": "python",
   "pygments_lexer": "ipython3",
   "version": "3.6.3"
  }
 },
 "nbformat": 4,
 "nbformat_minor": 2
}
