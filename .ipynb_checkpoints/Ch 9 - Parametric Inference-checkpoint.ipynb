{
 "cells": [
  {
   "cell_type": "markdown",
   "metadata": {},
   "source": [
    "### 2\n",
    "\n",
    "Let $X_1, \\cdots, X_n \\sim \\text{Uniform}(a, b)$ where $a$ and $b$ are unknown parameters and $a<b$. \n",
    "\n",
    "2. Find the MLE $\\hat a$ and $\\hat b$\n",
    "3. Let $\\tau = \\int x\\text{d}F(x)$. Find the MLE of $\\tau$.\n",
    "4. Let $\\hat \\tau$ be the MLE of $\\tau$. Let $\\tilde \\tau$ be the nonparametric plug-in estimator of $\\tau = \\int x \\text{d} F(x)$. Suppose that $a=1, b=3$ and $n=10$. Find the MSE of $\\hat \\tau$ by simulation. Find the MSE of $\\tilde \\tau$ analytically. Compare."
   ]
  },
  {
   "cell_type": "markdown",
   "metadata": {},
   "source": [
    "#### (1)\n",
    "\n",
    "Let $X^{(1)} = \\min \\{X_1, \\cdots, X_n\\}$, $X^{(2)} = \\max \\{X_1, \\cdots X_n \\}$. \n",
    "\n",
    "If $X^{(1)} < a$, then $L(a, b) = 0$; or if If $X^{(2)} > b$, then $L(a, b) = 0$. Otherwise, the likelihood is:\n",
    "$$\n",
    "L(a, b) = \\frac{1}{(b-a)^n}\n",
    "$$.\n",
    "\n",
    "$\\hat a = \\min \\{X_1, \\cdots, X_n\\}$ and $\\hat b = \\max \\{X_1, \\cdots X_n \\}$.\n",
    "\n",
    "#### (2)\n",
    "\n",
    "From equivariance, \n",
    "$$\n",
    "\\begin{align}\n",
    "\\hat \\tau &= \\frac{1}{2} (\\hat a + \\hat b)\\\\\n",
    "&= \\frac{1}{2} \\left (\\min \\{X_1, \\cdots, X_n\\} + \\max \\{X_1, \\cdots, X_n\\} \\right)\n",
    "\\end{align}\n",
    "$$\n",
    "\n",
    "#### (3)\n",
    "\n",
    "$$\n",
    "\\tilde \\tau = \\frac{1}{n} \\left (X_1 + \\cdots + X_n \\right )\n",
    "$$"
   ]
  },
  {
   "cell_type": "code",
   "execution_count": 1,
   "metadata": {
    "collapsed": true
   },
   "outputs": [],
   "source": [
    "%matplotlib inline\n",
    "import matplotlib.pyplot as plt\n",
    "import numpy as np"
   ]
  },
  {
   "cell_type": "code",
   "execution_count": 10,
   "metadata": {},
   "outputs": [
    {
     "name": "stdout",
     "output_type": "stream",
     "text": [
      "MSE:  0.0331496656868\n"
     ]
    }
   ],
   "source": [
    "### Find MSE by simulation\n",
    "\n",
    "a = 1\n",
    "b = 3\n",
    "n = 10\n",
    "\n",
    "X = np.random.uniform(a, b, n)\n",
    "\n",
    "B = 1000\n",
    "TB = np.zeros((B, ))\n",
    "for i in range(B):\n",
    "    XX = np.random.choice(X, size=n, replace=True)\n",
    "    TB[i] = XX.mean()\n",
    "\n",
    "var = lambda x: np.mean((x - x.mean())**2)\n",
    "print(\"MSE by simulation: \", var(TB))"
   ]
  },
  {
   "cell_type": "markdown",
   "metadata": {},
   "source": [
    "Analytically,\n",
    "\n",
    "$$\n",
    "\\begin{align}\n",
    "\\text{MSE} &= \\text{Var}(\\tilde \\tau) \\\\\n",
    "&= \\frac{1}{n} \\hat \\sigma^2 \\\\\n",
    "&= \\frac{1}{n} \\times \\frac{1}{n}\\sum_{i=1}^n (X_i - \\bar X_n)^2 \n",
    "\\end{align}\n",
    "$$"
   ]
  },
  {
   "cell_type": "code",
   "execution_count": 17,
   "metadata": {},
   "outputs": [
    {
     "name": "stdout",
     "output_type": "stream",
     "text": [
      "MSE by theory:  0.0324069228791\n"
     ]
    }
   ],
   "source": [
    "print(\"MSE by theory: \", var(X)/n )"
   ]
  },
  {
   "cell_type": "markdown",
   "metadata": {
    "collapsed": true
   },
   "source": [
    "### 3\n",
    "\n",
    "#### (3)"
   ]
  },
  {
   "cell_type": "code",
   "execution_count": 2,
   "metadata": {
    "collapsed": true
   },
   "outputs": [],
   "source": [
    "X = np.array([3.23, -2.50, 1.88, -0.68, 4.43, 0.17, \n",
    "              1.03, -0.07, -0.01, 0.76, 1.76, 3.18,\n",
    "              0.33, -0.31, 0.30, -0.61, 1.52, 5.43,\n",
    "              1.54, 2.28, 0.42, 2.33, -1.03, 4.00,\n",
    "              0.39])"
   ]
  },
  {
   "cell_type": "code",
   "execution_count": 5,
   "metadata": {},
   "outputs": [
    {
     "data": {
      "text/plain": [
       "Text(0.5,1,'X')"
      ]
     },
     "execution_count": 5,
     "metadata": {},
     "output_type": "execute_result"
    },
    {
     "data": {
      "image/png": "[encoded data removed]",
      "text/plain": [
       "<matplotlib.figure.Figure at 0x1131d09e8>"
      ]
     },
     "metadata": {},
     "output_type": "display_data"
    }
   ],
   "source": [
    "plt.hist(X, bins=10)\n",
    "plt.title(\"X\")"
   ]
  },
  {
   "cell_type": "code",
   "execution_count": 11,
   "metadata": {},
   "outputs": [
    {
     "name": "stdout",
     "output_type": "stream",
     "text": [
      "MLE for tau:  4.18976447088\n",
      "SE from delta method:  0.963303739131\n"
     ]
    }
   ],
   "source": [
    "## MLE\n",
    "uhat = X.mean()\n",
    "sigmahat = np.sqrt(((X-uhat)**2).mean())\n",
    "\n",
    "tauhat = uhat + 1.65 * sigmahat\n",
    "print(\"MLE for tau: \", tauhat)\n",
    "\n",
    "sehat = np.sqrt(((1+1.65)**2 * sigmahat**2) / X.shape[0])\n",
    "print(\"SE from delta method: \", sehat)"
   ]
  },
  {
   "cell_type": "code",
   "execution_count": 12,
   "metadata": {},
   "outputs": [
    {
     "name": "stdout",
     "output_type": "stream",
     "text": [
      "SE from bootstrap:  0.638794446432\n"
     ]
    }
   ],
   "source": [
    "## bootstrap to get SE\n",
    "n = X.shape[0]\n",
    "B = 1000\n",
    "tauB = np.zeros((B, ))\n",
    "for i in range(B):\n",
    "    XX = np.random.choice(X, size=n, replace=True)\n",
    "    uB = XX.mean()\n",
    "    sigmaB = np.sqrt(((XX-uB)**2).mean())\n",
    "    tauB[i] = uB + 1.65 * sigmaB\n",
    "\n",
    "seB = np.sqrt(((tauB - tauB.mean())**2).mean())\n",
    "print(\"SE from bootstrap: \", seB)"
   ]
  },
  {
   "cell_type": "code",
   "execution_count": null,
   "metadata": {
    "collapsed": true
   },
   "outputs": [],
   "source": []
  }
 ],
 "metadata": {
  "kernelspec": {
   "display_name": "Python 3",
   "language": "python",
   "name": "python3"
  },
  "language_info": {
   "codemirror_mode": {
    "name": "ipython",
    "version": 3
   },
   "file_extension": ".py",
   "mimetype": "text/x-python",
   "name": "python",
   "nbconvert_exporter": "python",
   "pygments_lexer": "ipython3",
   "version": "3.6.3"
  }
 },
 "nbformat": 4,
 "nbformat_minor": 2
}
