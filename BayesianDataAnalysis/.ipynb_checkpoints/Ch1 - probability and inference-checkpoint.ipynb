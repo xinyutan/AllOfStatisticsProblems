{
 "cells": [
  {
   "cell_type": "code",
   "execution_count": 1,
   "metadata": {
    "collapsed": true
   },
   "outputs": [],
   "source": [
    "%matplotlib inline\n",
    "\n",
    "import matplotlib.pyplot as plt\n",
    "import numpy as np"
   ]
  },
  {
   "cell_type": "markdown",
   "metadata": {},
   "source": [
    "### 1\n",
    "\n",
    "#### (1)\n",
    "$$\n",
    "\\begin{align}\n",
    "p(y) &= p(y|\\theta_1)p(\\theta_1) + p(y|\\theta_2)p(\\theta_2) \\\\\n",
    "    &= \\frac{1}{\\sqrt{2\\pi}\\sigma} \\exp\\left(-\\frac{(x-1)^2}{2\\sigma^2}\\right) \\times 0.5 + \\frac{1}{\\sqrt{2\\pi}\\sigma} \\exp\\left(-\\frac{(x-2)^2}{2\\sigma^2}\\right) \\times 0.5 \\\\\n",
    "    &= \\frac{1}{\\sqrt{2\\pi} \\cdot 2} \\exp\\left(-\\frac{(x-1)^2}{2 \\cdot 2^2}\\right) \\times 0.5 + \\frac{1}{\\sqrt{2\\pi} \\cdot 2} \\exp\\left(-\\frac{(x-2)^2}{2\\cdot 2^2}\\right) \\times 0.5 \\\\ \n",
    "    &= \\frac{1}{4\\sqrt{2\\pi}}\\left(\\exp\\left(-\\frac{(x-1)^2}{8}\\right) + \\exp\\left(-\\frac{(x-2)^2}{8}\\right) \\right)\n",
    "\\end{align}\n",
    "$$"
   ]
  },
  {
   "cell_type": "code",
   "execution_count": 10,
   "metadata": {
    "scrolled": true
   },
   "outputs": [
    {
     "data": {
      "text/plain": [
       "[<matplotlib.lines.Line2D at 0x1184ad160>]"
      ]
     },
     "execution_count": 10,
     "metadata": {},
     "output_type": "execute_result"
    },
    {
     "data": {
      "image/png": "[encoded data removed]",
      "text/plain": [
       "<matplotlib.figure.Figure at 0x117d35a58>"
      ]
     },
     "metadata": {},
     "output_type": "display_data"
    }
   ],
   "source": [
    "x = np.linspace(-10, 10, 10000)\n",
    "py = 1/(4*np.sqrt(2*np.pi)) * (np.exp(-(x-1)**2/8) + np.exp(-(x-2)**2/8))\n",
    "\n",
    "plt.figure(figsize=(10,4))\n",
    "plt.plot(x, py)"
   ]
  },
  {
   "cell_type": "code",
   "execution_count": 4,
   "metadata": {},
   "outputs": [
    {
     "data": {
      "text/plain": [
       "array([2.84433708e-08, 3.98604279e-07, 4.36761516e-06, 3.74534917e-05,\n",
       "       2.51628230e-04, 1.32613278e-03, 5.49003723e-03, 1.78798168e-02,\n",
       "       4.58771405e-02, 9.28720800e-02, 1.48509013e-01, 1.87751902e-01,\n",
       "       1.87751902e-01, 1.48509013e-01, 9.28720800e-02, 4.58771405e-02,\n",
       "       1.78798168e-02, 5.49003723e-03, 1.32613278e-03, 2.51628230e-04])"
      ]
     },
     "execution_count": 4,
     "metadata": {},
     "output_type": "execute_result"
    }
   ],
   "source": [
    "py"
   ]
  },
  {
   "cell_type": "markdown",
   "metadata": {},
   "source": [
    "#### (2)\n",
    "\n",
    "$$\n",
    "\\begin{align}\n",
    "p(\\theta=1|y=1) &= \\frac{p(y=1|\\theta=1)p(\\theta=1)}{p(y=1)} = \\frac{p(y=1|\\theta=1)p(\\theta=1)}{p(y=1|\\theta=1)p(\\theta=1) + p(y=1|\\theta=2)p(\\theta=2)}\n",
    "\\end{align}\n",
    "$$"
   ]
  },
  {
   "cell_type": "code",
   "execution_count": 18,
   "metadata": {},
   "outputs": [],
   "source": [
    "def ptheta_cond_y(y, theta=1):\n",
    "    py = 1/(4*np.sqrt(2*np.pi)) * (np.exp(-(y-1)**2/8) + np.exp(-(y-2)**2/8))\n",
    "    if theta == 1:\n",
    "        return 0.5 * 1/(2*np.sqrt(2*np.pi)) * np.exp(-(y-1)**2/8) / py\n",
    "    elif theta == 2:\n",
    "        return 0.5 * 1/(2*np.sqrt(2*np.pi)) * np.exp(-(y-2)**2/8) / py\n",
    "    else:\n",
    "        raise ValueError('theta={0} is not valid.'.format(theta))"
   ]
  },
  {
   "cell_type": "code",
   "execution_count": 14,
   "metadata": {},
   "outputs": [
    {
     "data": {
      "text/plain": [
       "(0.5312093733737563, 0.46879062662624377)"
      ]
     },
     "execution_count": 14,
     "metadata": {},
     "output_type": "execute_result"
    }
   ],
   "source": [
    "ptheta_cond_y(1, 1), ptheta_cond_y(1, 2)"
   ]
  },
  {
   "cell_type": "markdown",
   "metadata": {},
   "source": [
    "#### (3)\n",
    "\n",
    "Let's consider $\\theta=1$.\n",
    "\n",
    "$$\n",
    "\\begin{align}\n",
    "p(\\theta=1|y=1) &= \\frac{p(\\theta=1, y=1)}{p(y=1)} = \\frac{p(y=1|\\theta=1)p(\\theta=1)}{p(y=1|\\theta=1)p(\\theta=1) + p(y=1|\\theta=2)p(\\theta=2)} \\\\\n",
    "            &= \\frac{1}{1+\\exp\\left(\\frac{-1}{2\\sigma^2}\\right)}\n",
    "\\end{align}\n",
    "$$\n",
    "\n",
    "Then $p(\\theta=2|y=1) = 1 - p(\\theta=1|y=1)$"
   ]
  },
  {
   "cell_type": "code",
   "execution_count": 30,
   "metadata": {},
   "outputs": [
    {
     "data": {
      "text/plain": [
       "Text(0.5,0,'sigma')"
      ]
     },
     "execution_count": 30,
     "metadata": {},
     "output_type": "execute_result"
    },
    {
     "data": {
      "image/png": "[encoded data removed]",
      "text/plain": [
       "<matplotlib.figure.Figure at 0x11b5bb668>"
      ]
     },
     "metadata": {},
     "output_type": "display_data"
    }
   ],
   "source": [
    "logsigma = np.linspace(-6, 1, 100)\n",
    "sigma = 10**logsigma\n",
    "\n",
    "ptheta_cond_y = 1 / (1 + np.exp(-1/(2*sigma**2)))\n",
    "\n",
    "plt.figure(figsize=(10, 4))\n",
    "plt.plot(sigma, ptheta_cond_y)\n",
    "plt.ylabel('p(theta=1|y=1)')\n",
    "plt.xlabel('sigma')"
   ]
  },
  {
   "cell_type": "markdown",
   "metadata": {},
   "source": [
    "When $\\sigma$ is small, then it means that $y=1$ is very likely from $\\theta=1$ distribution. As we increase the $sigma$, the data is more distributed, then $y=1$ are equally likely sampled from either normal distribution."
   ]
  },
  {
   "cell_type": "code",
   "execution_count": null,
   "metadata": {
    "collapsed": true
   },
   "outputs": [],
   "source": []
  }
 ],
 "metadata": {
  "kernelspec": {
   "display_name": "Python 3",
   "language": "python",
   "name": "python3"
  },
  "language_info": {
   "codemirror_mode": {
    "name": "ipython",
    "version": 3
   },
   "file_extension": ".py",
   "mimetype": "text/x-python",
   "name": "python",
   "nbconvert_exporter": "python",
   "pygments_lexer": "ipython3",
   "version": "3.6.3"
  }
 },
 "nbformat": 4,
 "nbformat_minor": 2
}
