{
 "cells": [
  {
   "cell_type": "markdown",
   "metadata": {},
   "source": [
    "### 2 \n",
    "\n",
    "Estimator for $\\beta_1$:\n",
    "$$\n",
    "\\hat{\\beta_1} = \\frac{\\sum_{i=1}^n (X_i - \\bar {X_n})(Y_i - \\bar {Y_n})}{\\sum_{i=1}^n (X_i - \\bar {X_n})^2} \n",
    "$$\n",
    "\n",
    "Given $X_1, \\cdots, X_n$, the expectation of the estimator is\n",
    "$$\n",
    "\\mathbb{E}\\left(\\hat{\\beta_1}\\right) = \\frac{\\sum_{i=1}^n (X_i - \\bar {X_n})}{\\sum_{i=1}^n (X_i - \\bar {X_n})^2} \\mathbb{E}\\left(Y_i - \\bar {Y_n}\\right) = \\frac{\\sum_{i=1}^n (X_i - \\bar {X_n})}{\\sum_{i=1}^n (X_i - \\bar {X_n})^2} \\mathbb{E}\\left(\\beta_1(X_i - \\bar {X_n})\\right) = \\beta_1\n",
    "$$\n",
    "\n",
    "Notice that $\\sum_{i=1}^n (X_i - \\bar {X_n}) \\bar{Y_n} = (n\\bar{X_n} - n\\bar{X_n})\\bar{Y_n} = 0$, then\n",
    "$$\n",
    "\\begin{align}\n",
    "\\mathbb{V}\\left(\\hat{\\beta_1}\\right) &= \\mathbb{V}\\left ( \\frac{\\sum_{i=1}^n (X_i - \\bar {X_n})(Y_i - \\bar {Y_n})}{\\sum_{i=1}^n (X_i - \\bar {X_n})^2} \\right ) \\\\\n",
    "&= \\mathbb{V}\\left ( \\frac{\\sum_{i=1}^n (X_i - \\bar {X_n})Y_i}{\\sum_{i=1}^n (X_i - \\bar {X_n})^2} \\right ) \\\\\n",
    "&= \\mathbb{V}\\left ( \\frac{\\sum_{i=1}^n (X_i - \\bar {X_n})\\left(\\beta_0 + \\beta_1 X_i + \\epsilon_i \\right)}{\\sum_{i=1}^n (X_i - \\bar {X_n})^2} \\right ) \\\\\n",
    "&= \\mathbb{V}\\left ( \\frac{\\sum_{i=1}^n (X_i - \\bar {X_n})\\epsilon_i}{\\sum_{i=1}^n (X_i - \\bar {X_n})^2} \\right ) \\\\\n",
    "&=  \\frac{\\sum_{i=1}^n (X_i - \\bar {X_n})^2}{\\left(\\sum_{j=1}^n (X_j - \\bar {X_n})^2\\right)^2} \\mathbb{V}(\\epsilon_i) \\\\\n",
    "&= \\frac{1}{\\sum_{i=1}^n (X_i - \\bar {X_n})^2} \\sigma^2\n",
    "\\end{align} \n",
    "$$\n",
    "\n",
    "One thing I got confused at the beginning is where does the variance comes from, what is constant under the $\\mathbb{V}()$ - notice that we treat all the data and \"correct\" parameters $\\beta_0, \\beta_1$ as constants."
   ]
  },
  {
   "cell_type": "markdown",
   "metadata": {},
   "source": [
    "Estimator for $\\beta_0$.\n",
    "\n",
    "$$\n",
    "\\hat {\\beta_0} = \\bar {Y_n} - \\hat {\\beta_1} \\bar {X_n}\n",
    "$$\n",
    "\n",
    "The expectation of the estimator is\n",
    "$$\n",
    "\\mathbb{E} \\left ( \\hat {\\beta_0} \\right) = \\mathbb{E} \\left ( \\beta_0 + \\beta_1 \\bar {X_n} + \\frac{1}{n} \\sum \\epsilon_i \\right) - \\mathbb{E} \\left (\\beta_1 \\bar {X_n} \\right) = \\beta_0\n",
    "$$\n",
    "\n",
    "Variance: \n",
    "$$\n",
    "\\begin{align}\n",
    "\\mathbb{V}\\left ( \\hat {\\beta_0} \\right) &= \\mathbb{V} \\left ( \\frac{1}{n}\\sum_{i=1}^n Y_i - \\frac{\\sum_{i=1}^n (X_i - \\bar {X_n})\\bar {X_n} Y_i}{\\sum_{i=1}^n (X_i - \\bar {X_n})^2} \\right) \\\\\n",
    "&= \\mathbb{V}\\left ( \\sum_{i=0}^n \\left (\\frac{1}{n} - \\frac{(X_i - \\bar {X_n})\\bar {X_n}}{\\sum_{i=1}^n (X_i - \\bar {X_n})^2} \\right) Y_i \\right) \\\\\n",
    "&= \\sum_{i=1}^n\\left (  \\frac{1}{n} - \\frac{ (X_i - \\bar {X_n})\\bar {X_n}}{\\sum_{i=1}^n (X_i - \\bar {X_n})^2}  \\right)^2 \\mathbb{V}(Y_i) = \\sum_{i=1}^n\\left ( \\frac{1}{n} - \\frac{ (X_i - \\bar {X_n})\\bar {X_n}}{\\sum_{i=1}^n (X_i - \\bar {X_n})^2}  \\right)^2 \\sigma^2 \\\\\n",
    "&= \\sum_{i=1}^n\\left( \\frac{1}{n^2} - 2\\frac{1}{n} \\frac{ (X_i - \\bar {X_n})\\bar {X_n}}{\\sum_{j=1}^n (X_j - \\bar {X_n})^2} + \\left(\\frac{ (X_i - \\bar {X_n})\\bar {X_n}}{\\sum_{j=1}^n (X_j - \\bar {X_n})^2}\\right)^2 \\right)\\sigma^2 \\\\\n",
    "&= \\left(\\frac{1}{n} + \\frac{\\bar{X_n}^2}{\\sum_{j=1}^n(X_j - \\bar{X_n})^2} \\right)\\sigma^2 \\\\ \n",
    "&= \\left(\\frac{\\sum_{i=1}^n(X_i - \\bar{X_n})^2 + n\\bar{X_n}^2}{n\\sum_{j=1}^n(X_j - \\bar{X_n})^2}\\right)\\sigma^2 \\\\\n",
    "&= \\frac{\\sigma^2\\sum_{i=1}^n X_i^2}{n\\sum_{j=1}^n(X_j - \\bar{X_n})^2} \n",
    "\\end{align}\n",
    "$$"
   ]
  },
  {
   "cell_type": "markdown",
   "metadata": {},
   "source": []
  }
 ],
 "metadata": {
  "kernelspec": {
   "display_name": "Python 3",
   "language": "python",
   "name": "python3"
  },
  "language_info": {
   "codemirror_mode": {
    "name": "ipython",
    "version": 3
   },
   "file_extension": ".py",
   "mimetype": "text/x-python",
   "name": "python",
   "nbconvert_exporter": "python",
   "pygments_lexer": "ipython3",
   "version": "3.6.3"
  }
 },
 "nbformat": 4,
 "nbformat_minor": 2
}
