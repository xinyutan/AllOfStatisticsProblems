{
 "cells": [
  {
   "cell_type": "code",
   "execution_count": 1,
   "metadata": {
    "collapsed": true
   },
   "outputs": [],
   "source": [
    "%matplotlib inline\n",
    "import numpy as np\n",
    "import matplotlib.pyplot as plt"
   ]
  },
  {
   "cell_type": "markdown",
   "metadata": {},
   "source": [
    "### 6"
   ]
  },
  {
   "cell_type": "code",
   "execution_count": 2,
   "metadata": {
    "collapsed": true
   },
   "outputs": [],
   "source": [
    "X1 = 0.5\n",
    "\n",
    "XY01 = 0.6\n",
    "XY11 = 0.3\n",
    "\n",
    "YZ0 = [0.2, 0.2, 0.6]\n",
    "YZ1 = [0.1, 0.6, 0.3]"
   ]
  },
  {
   "cell_type": "code",
   "execution_count": 6,
   "metadata": {
    "collapsed": true
   },
   "outputs": [],
   "source": [
    "def generate_sequence():\n",
    "    X = np.random.binomial(1, X1)\n",
    "    \n",
    "    if X == 0:\n",
    "        Y = np.random.binomial(1, XY01)\n",
    "    if X == 1:\n",
    "        Y = np.random.binomial(1, XY11)\n",
    "        \n",
    "    if Y == 0:\n",
    "        Z = np.where(np.random.multinomial(1, YZ0)==1)[0]\n",
    "    if Y == 1:\n",
    "        Z = np.where(np.random.multinomial(1, YZ1)==1)[0]\n",
    "    return np.array([X, Y, Z])"
   ]
  },
  {
   "cell_type": "code",
   "execution_count": 8,
   "metadata": {},
   "outputs": [
    {
     "name": "stdout",
     "output_type": "stream",
     "text": [
      "result shape:  (1000, 3)\n"
     ]
    }
   ],
   "source": [
    "n = 1000\n",
    "result = np.zeros((n, 3))\n",
    "print(\"result shape: \", result.shape)\n",
    "\n",
    "for i in range(n):\n",
    "    result[i, :] = generate_sequence()"
   ]
  },
  {
   "cell_type": "code",
   "execution_count": 38,
   "metadata": {},
   "outputs": [],
   "source": [
    "from itertools import product\n",
    "r = [0,1]\n",
    "s = [0, 1]\n",
    "t = [0, 1, 2]\n",
    "\n",
    "theta = {}\n",
    "for (x,y,z) in product(r,s,t):\n",
    "    theta[(x,y,z)] = np.sum(np.sum(result == np.array([x,y,z]), axis=1)==3)/n"
   ]
  },
  {
   "cell_type": "markdown",
   "metadata": {},
   "source": [
    "$$\n",
    "P(X, Y, Z) = P(X)P(Y|X)P(Z|Y)\n",
    "$$"
   ]
  },
  {
   "cell_type": "code",
   "execution_count": 28,
   "metadata": {},
   "outputs": [
    {
     "name": "stdout",
     "output_type": "stream",
     "text": [
      "(0,0,0) in theory: 0.040, simulation: 0.033\n",
      "(0,0,1) in theory: 0.040, simulation: 0.035\n",
      "(0,0,2) in theory: 0.120, simulation: 0.135\n",
      "\n",
      "\n",
      "(0,1,0) in theory: 0.030, simulation: 0.034\n",
      "(0,1,1) in theory: 0.180, simulation: 0.183\n",
      "(0,1,2) in theory: 0.090, simulation: 0.083\n",
      "\n",
      "\n",
      "(1,0,0) in theory: 0.070, simulation: 0.070\n",
      "(1,0,1) in theory: 0.070, simulation: 0.062\n",
      "(1,0,2) in theory: 0.210, simulation: 0.218\n",
      "\n",
      "\n",
      "(1,1,0) in theory: 0.015, simulation: 0.017\n",
      "(1,1,1) in theory: 0.090, simulation: 0.092\n",
      "(1,1,2) in theory: 0.045, simulation: 0.038\n"
     ]
    }
   ],
   "source": [
    "print(\"(0,0,0) in theory: %.3f, simulation: %.3f\"%(0.5*0.4*0.2, theta[0,0,0]))\n",
    "print(\"(0,0,1) in theory: %.3f, simulation: %.3f\"%(0.5*0.4*0.2, theta[0,0,1]))\n",
    "print(\"(0,0,2) in theory: %.3f, simulation: %.3f\"%(0.5*0.4*0.6, theta[0,0,2]))\n",
    "print(\"\\n\")\n",
    "print(\"(0,1,0) in theory: %.3f, simulation: %.3f\"%(0.5*0.6*0.1, theta[0,1,0]))\n",
    "print(\"(0,1,1) in theory: %.3f, simulation: %.3f\"%(0.5*0.6*0.6, theta[0,1,1]))\n",
    "print(\"(0,1,2) in theory: %.3f, simulation: %.3f\"%(0.5*0.6*0.3, theta[0,1,2]))\n",
    "print(\"\\n\")\n",
    "print(\"(1,0,0) in theory: %.3f, simulation: %.3f\"%(0.5*0.7*0.2, theta[1,0,0]))\n",
    "print(\"(1,0,1) in theory: %.3f, simulation: %.3f\"%(0.5*0.7*0.2, theta[1,0,1]))\n",
    "print(\"(1,0,2) in theory: %.3f, simulation: %.3f\"%(0.5*0.7*0.6, theta[1,0,2]))\n",
    "print(\"\\n\")\n",
    "print(\"(1,1,0) in theory: %.3f, simulation: %.3f\"%(0.5*0.3*0.1, theta[1,1,0]))\n",
    "print(\"(1,1,1) in theory: %.3f, simulation: %.3f\"%(0.5*0.3*0.6, theta[1,1,1]))\n",
    "print(\"(1,1,2) in theory: %.3f, simulation: %.3f\"%(0.5*0.3*0.3, theta[1,1,2]))"
   ]
  },
  {
   "cell_type": "code",
   "execution_count": 34,
   "metadata": {},
   "outputs": [],
   "source": [
    "# Bootstrap to calculate the 95% confidence interval for twelve parameters\n",
    "\n",
    "B = 10000\n",
    "index = np.arange(n)\n",
    "thetaB = np.zeros((B, 12))\n",
    "\n",
    "for i in range(B):\n",
    "    indexB = np.random.choice(index, size=n, replace=True)\n",
    "    resultB = result[indexB]\n",
    "    \n",
    "    j = 0\n",
    "    for (x,y,z) in product(r,s,t):\n",
    "        thetaB[i, j] = np.sum(np.sum(resultB == np.array([x,y,z]), axis=1)==3)/n\n",
    "        j+=1"
   ]
  },
  {
   "cell_type": "code",
   "execution_count": 40,
   "metadata": {},
   "outputs": [
    {
     "name": "stdout",
     "output_type": "stream",
     "text": [
      "95 percent interval for (0, 0, 0) is (0.023, 0.044), theory: 0.033\n",
      "95 percent interval for (0, 0, 1) is (0.024, 0.046), theory: 0.035\n",
      "95 percent interval for (0, 0, 2) is (0.114, 0.157), theory: 0.135\n",
      "95 percent interval for (0, 1, 0) is (0.023, 0.046), theory: 0.034\n",
      "95 percent interval for (0, 1, 1) is (0.159, 0.207), theory: 0.183\n",
      "95 percent interval for (0, 1, 2) is (0.066, 0.101), theory: 0.083\n",
      "95 percent interval for (1, 0, 0) is (0.055, 0.086), theory: 0.070\n",
      "95 percent interval for (1, 0, 1) is (0.047, 0.077), theory: 0.062\n",
      "95 percent interval for (1, 0, 2) is (0.192, 0.244), theory: 0.218\n",
      "95 percent interval for (1, 1, 0) is (0.010, 0.025), theory: 0.017\n",
      "95 percent interval for (1, 1, 1) is (0.074, 0.110), theory: 0.092\n",
      "95 percent interval for (1, 1, 2) is (0.027, 0.050), theory: 0.038\n"
     ]
    }
   ],
   "source": [
    "# 95% interval\n",
    "\n",
    "j = 0\n",
    "for (x,y,z) in product(r,s,t):\n",
    "    the = thetaB[:, j]\n",
    "    print('95 percent interval for (%d, %d, %d) is (%.3f, %.3f), theory: %.3f'%(x, y, z, \n",
    "                                                                  np.percentile(the, 2.5), \n",
    "                                                                  np.percentile(the, 97.5), theta[(x,y,z)]))\n",
    "    j += 1"
   ]
  },
  {
   "cell_type": "markdown",
   "metadata": {},
   "source": [
    "### 7\n",
    "\n",
    "#### (a)\n",
    "\n",
    "$$\n",
    "P = f(X)f(Z_1)f(Z_2)f(Z_3)f(Z_4)f(Y_1|X, Z_1)f(Y_2|X, Z_2)f(Y_3|X, Z_3)f(Y_4|X, Z_4)\n",
    "$$\n",
    "\n",
    "#### (b)\n",
    "\n",
    "Without loss of generality, let's consider $Z_1$\n",
    "$$\n",
    "f(X, Z_1) = \\int f(X)f(Z_1)f(Z_2)f(Z_3)f(Z_4)f(Y_1|X, Z_1)f(Y_2|X, Z_2)f(Y_3|X, Z_3)f(Y_4|X, Z_4) dY_1dY_2dY_3dY_4dZ_2dZ_3dZ_4\n",
    "$$\n",
    "\n",
    "Since we have $\\int f(Z_2)f(Y_2|X, Z_2)dZ_2dY_2 = 1$, above equation can be simplified to \n",
    "$$\n",
    "f(X, Z_1) = f(X)f(Z_1)\n",
    "$$"
   ]
  },
  {
   "cell_type": "markdown",
   "metadata": {},
   "source": [
    "### 8\n",
    "\n",
    "#### (a)\n",
    "\n",
    "$$\n",
    "P(Z=1|Y=1) = \\frac{e^2}{1+e^2}\\left(\\frac{1}{2} + \\frac{e^2}{1+e^2} \\right)\n",
    "$$\n",
    "\n",
    "#### (b)"
   ]
  },
  {
   "cell_type": "code",
   "execution_count": 42,
   "metadata": {
    "collapsed": true
   },
   "outputs": [],
   "source": [
    "def generate_sequence():\n",
    "    X = np.random.binomial(1, 0.5)\n",
    "    tx = np.exp(4*X -2)\n",
    "    Y = np.random.binomial(1, tx/(1+tx))\n",
    "    ty = np.exp(2*(X+Y)-2)\n",
    "    Z = np.random.binomial(1, ty/(1+ty))\n",
    "    \n",
    "    return np.array([X, Y, Z])\n",
    "\n",
    "def generate_samples(n):\n",
    "    result = np.zeros((n, 3))\n",
    "    for i in range(n):\n",
    "        result[i,:]= generate_sequence()\n",
    "    return result"
   ]
  },
  {
   "cell_type": "code",
   "execution_count": 56,
   "metadata": {
    "collapsed": true
   },
   "outputs": [],
   "source": [
    "NS = [100, 500, 1000, 2000, 5000, 7000, 10000, 20000, 50000, 100000]\n",
    "pzy = []\n",
    "for n in NS:\n",
    "    result = generate_samples(n)\n",
    "    result_Y1 = result[result[:, 1]==1]\n",
    "    pzy_n = np.sum(result_Y1[:, 2] == 1)/result_Y1.shape[0]\n",
    "    pzy.append(pzy_n)"
   ]
  },
  {
   "cell_type": "code",
   "execution_count": 55,
   "metadata": {},
   "outputs": [
    {
     "name": "stdout",
     "output_type": "stream",
     "text": [
      "0.835404953585\n"
     ]
    }
   ],
   "source": [
    "pzy_theory = (np.exp(2)/(np.exp(2)+1))**2 + 1/(np.exp(2)+1) * 0.5\n",
    "print(pzy_theory)"
   ]
  },
  {
   "cell_type": "code",
   "execution_count": 62,
   "metadata": {},
   "outputs": [
    {
     "data": {
      "text/plain": [
       "Text(0,0.5,'P(Z=1|Y=1)')"
      ]
     },
     "execution_count": 62,
     "metadata": {},
     "output_type": "execute_result"
    },
    {
     "data": {
      "image/png": "[encoded data removed]",
      "text/plain": [
       "<matplotlib.figure.Figure at 0x10b474c88>"
      ]
     },
     "metadata": {},
     "output_type": "display_data"
    }
   ],
   "source": [
    "plt.plot(NS, pzy, '-o', label=\"Simulation\")\n",
    "plt.plot([50, 100050], [pzy_theory, pzy_theory], '--', label=\"Theory\")\n",
    "plt.legend()\n",
    "plt.xlabel(\"N\")\n",
    "plt.ylabel(\"P(Z=1|Y=1)\")"
   ]
  },
  {
   "cell_type": "markdown",
   "metadata": {},
   "source": [
    "#### (c)\n",
    "\n",
    "$$\n",
    "f(Z=1|Y:=1) = f(X=0)f(Z=1|X=0, Y=1) + f(X=1)f(Z=1|X=1, Y=1) = \\frac{1}{4} + \\frac{1}{2} \\cdot \\frac{e^2}{1+e^2}\n",
    "$$\n",
    "\n",
    "#### (d)"
   ]
  },
  {
   "cell_type": "code",
   "execution_count": 63,
   "metadata": {
    "collapsed": true
   },
   "outputs": [],
   "source": [
    "def generate_y():\n",
    "    X = np.random.binomial(1, 1/2)\n",
    "    tz = np.exp(2*(X+1)-2)\n",
    "    Z = np.random.binomial(1, tz/(1+tz))\n",
    "    return np.array([X, Z])\n",
    "\n",
    "def generate_samples_y(n):\n",
    "    result = np.zeros((n, 2))\n",
    "    for i in range(n):\n",
    "        result[i,:]= generate_y()\n",
    "    return result"
   ]
  },
  {
   "cell_type": "code",
   "execution_count": 69,
   "metadata": {
    "collapsed": true
   },
   "outputs": [],
   "source": [
    "NS = [100, 500, 1000, 2000, 5000, 7000, 10000, 20000, 50000, 100000]\n",
    "pz_sety = []\n",
    "for n in NS:\n",
    "    result = generate_samples_y(n)\n",
    "    pz_sety_n = np.sum(result[:, 1] == 1)/result.shape[0]\n",
    "    pz_sety.append(pz_sety_n)"
   ]
  },
  {
   "cell_type": "code",
   "execution_count": 65,
   "metadata": {},
   "outputs": [
    {
     "name": "stdout",
     "output_type": "stream",
     "text": [
      "0.690398538989\n"
     ]
    }
   ],
   "source": [
    "pz_sety_theory = 1/4 + 1/2*np.exp(2)/(1+np.exp(2))\n",
    "print(pz_sety_theory)"
   ]
  },
  {
   "cell_type": "code",
   "execution_count": 70,
   "metadata": {},
   "outputs": [
    {
     "data": {
      "text/plain": [
       "Text(0,0.5,'P(Z=1|Y:=1)')"
      ]
     },
     "execution_count": 70,
     "metadata": {},
     "output_type": "execute_result"
    },
    {
     "data": {
      "image/png": "[encoded data removed]",
      "text/plain": [
       "<matplotlib.figure.Figure at 0x1145e7dd8>"
      ]
     },
     "metadata": {},
     "output_type": "display_data"
    }
   ],
   "source": [
    "plt.plot(NS, pz_sety, '-o', label=\"Simulation\")\n",
    "plt.plot([50, 100050], [pz_sety_theory, pz_sety_theory], '--', label=\"Theory\")\n",
    "plt.legend()\n",
    "plt.xlabel(\"N\")\n",
    "plt.ylabel(\"P(Z=1|Y:=1)\")"
   ]
  },
  {
   "cell_type": "code",
   "execution_count": null,
   "metadata": {
    "collapsed": true
   },
   "outputs": [],
   "source": []
  }
 ],
 "metadata": {
  "kernelspec": {
   "display_name": "Python 3",
   "language": "python",
   "name": "python3"
  },
  "language_info": {
   "codemirror_mode": {
    "name": "ipython",
    "version": 3
   },
   "file_extension": ".py",
   "mimetype": "text/x-python",
   "name": "python",
   "nbconvert_exporter": "python",
   "pygments_lexer": "ipython3",
   "version": "3.6.3"
  }
 },
 "nbformat": 4,
 "nbformat_minor": 2
}
