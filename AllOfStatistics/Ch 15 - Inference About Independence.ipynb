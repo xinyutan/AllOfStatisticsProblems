{
 "cells": [
  {
   "cell_type": "code",
   "execution_count": 1,
   "metadata": {
    "collapsed": true
   },
   "outputs": [],
   "source": [
    "import numpy as np"
   ]
  },
  {
   "cell_type": "markdown",
   "metadata": {},
   "source": [
    "### 2\n",
    "\n",
    "Likelihood ratio test definition:\n",
    "\n",
    "Consider testing \n",
    "$$\n",
    "H_0: \\theta \\in \\Theta_0 \\text{ versus } H_1: \\theta \\notin \\Theta_0\n",
    "$$\n",
    "\n",
    "The likelihood ratio statistic is\n",
    "$$\n",
    "\\lambda = 2 \\log \\left (\\frac{\\sup_{\\theta \\in \\Theta} \\mathcal{L}(\\theta)}{\\sup_{\\theta \\in \\Theta_0} \\mathcal{L}(\\theta)} \\right ) = 2 \\log \\left(\\frac{\\mathcal L\\left(\\hat \\theta\\right)}{\\mathcal{L}\\left(\\hat {\\theta_0}\\right)} \\right)\n",
    "$$"
   ]
  },
  {
   "cell_type": "markdown",
   "metadata": {},
   "source": [
    "In this case, \n",
    "$$\n",
    "\\mathcal{L} = p_{00}^{X_{00}} p_{01}^{X_{01}} p_{10}^{X_{10}} p_{11}^{X_{11}}\n",
    "$$\n",
    "\n",
    "$\\Theta_0$ is the set where $p_{ij} = p_{i\\cdot} p_{\\cdot j}$, or in estimation \n",
    "$$\\frac{X_{ij}}{n} = \\frac{X_{i\\cdot}}{n}\\frac{X_{\\cdot j}}{n}$$\n",
    "\n",
    "Therefore,\n",
    "$$\n",
    "\\lambda = 2 \\log \\left( \\left(\\frac{p_{00}}{p_{00}'}\\right)^{X_{00}} \\left(\\frac{p_{01}}{p_{01}'}\\right)^{X_{01}} \\left(\\frac{p_{10}}{p_{10}'}\\right)^{X_{10}} \\left(\\frac{p_{11}}{p_{11}'}\\right)^{X_{11}} \\right) = 2 \\sum_{i=0}^1 \\sum_{j=0}^1 X_{ij}\\log{\\frac{p_{ij}}{p_{ij}'}}\n",
    "$$\n",
    "\n",
    "where  $p_{ij}' = p_{i\\cdot} p_{\\cdot j}$.\n",
    "\n",
    "Replace $p$s and $p'$s with the estimated value:\n",
    "$$\n",
    "p_{ij} = \\frac{X_{ij}}{X_{\\cdot \\cdot}}, p_{ij}' = p_{i\\cdot}p_{\\cdot j} = \\frac{X_{i \\cdot}}{X_{\\cdot \\cdot}}\\frac{X_{\\cdot j}}{X_{\\cdot \\cdot}}\n",
    "$$\n",
    "\n",
    "Hence\n",
    "$$\n",
    "T = 2 \\sum_{i=0}^1 \\sum_{j=0}^1 X_{ij}\\log{\\frac{X_{ij}X_{\\cdot \\cdot}}{X_{i\\cdot}X_{\\cdot j}}}\n",
    "$$\n",
    "\n",
    "We have four parameters, $p_{ij}$, where $i,j\\in \\{0,1\\}$. Under $H_0$, however, there is only one degree of freedom. We need to know $p_{0\\cdot}$ and $p_{\\cdot 0}$. Then $p_{ij}$ is knowable.\n",
    "\n",
    "However, we have one more relationship between $p_{0\\cdot}$ and $p_{\\cdot 0}$:\n",
    "$$\n",
    "\\sum_{i=0}^1 \\sum_{j=0}^1 p_{ij} = 1\n",
    "$$\n",
    "\n",
    "This leaves us one degree of freedom. Hence $T \\rightsquigarrow \\chi_1^2$."
   ]
  },
  {
   "cell_type": "markdown",
   "metadata": {
    "collapsed": true
   },
   "source": [
    "### 3 \n",
    "\n",
    "$$\n",
    "L = p_{00}^{X_{00}}p_{01}^{X_{01}}p_{10}^{X_{10}}p_{11}^{X_{11}}\n",
    "$$\n",
    "\n",
    "Log-likelihood: $\\mathcal{l}\\left(p_{00}, p_{01}, p_{10}, p_{11}\\right) = X_{00}\\log{p_{00}} + X_{01}\\log{p_{01}} + X_{10}\\log{p_{10}} + X_{11}\\log{p_{11}}$.\n",
    "\n",
    "Using Delta method, we need to calculate two things:\n",
    "\n",
    "$$\n",
    "\\nabla {\\hat \\gamma} = \\begin{bmatrix} \\frac{\\partial {\\hat \\gamma}}{\\partial p_{00}} \\\\ \\frac{\\partial {\\hat \\gamma}}{\\partial p_{01}} \\\\ \\frac{\\partial {\\hat \\gamma}}{\\partial p_{10}} \\\\ \\frac{\\partial {\\hat \\gamma}}{\\partial p_{11}} \\end{bmatrix} = \\begin{bmatrix} \\frac{1}{p_{00}} \\\\ - \\frac{1}{p_{01}} \\\\ - \\frac{1}{p_{10}} \\\\\\frac{1}{p_{11}} \\end{bmatrix}\n",
    "$$\n",
    "\n",
    "and \n",
    "$$\n",
    "I_{n}\\left(p_{00}, p_{01}, p_{10}, p_{11}\\right) = \n",
    "\\begin{bmatrix} \n",
    "E\\left(\\frac{X_{00}}{p_{00}^2} \\right) & 0 & 0 & 0 \\\\\n",
    "0 & E\\left(\\frac{X_{01}}{p_{01}^2} \\right) & 0 & 0 \\\\\n",
    "0 & 0 & E\\left(\\frac{X_{10}}{p_{10}^2} \\right) & 0 \\\\\n",
    "0 & 0 & 0 & E\\left(\\frac{X_{11}}{p_{11}^2} \\right) \\\\\n",
    "\\end{bmatrix} =\n",
    "\\begin{bmatrix} \n",
    "\\frac{n}{p_{00}} & 0 & 0 & 0 \\\\\n",
    "0 & \\frac{n}{p_{01}} & 0 & 0 \\\\\n",
    "0 & 0 & \\frac{n}{p_{10}} & 0 \\\\\n",
    "0 & 0 & 0 & \\frac{n}{p_{11}} \\\\\n",
    "\\end{bmatrix}\n",
    "$$\n",
    "\n",
    "Per multiparameter delta method, we have\n",
    "$$\n",
    "\\hat{se}\\left(\\hat{\\gamma}\\right) = \\sqrt{\\nabla {\\hat \\gamma}^T I_{n}^{-1} \\nabla {\\hat \\gamma}} = \\sqrt{\\frac{1}{n \\hat p_{00}} + \\frac{1}{n \\hat p_{01}} + \\frac{1}{n \\hat p_{10}} + \\frac{1}{n \\hat p_{11}} } = \\sqrt{\\frac{1}{X_{00}} + \\frac{1}{X_{01}} + \\frac{1}{X_{10}} + \\frac{1}{X_{11}} }\n",
    "$$\n",
    "\n",
    "Since $\\psi = e^{\\gamma}$, and $\\frac{\\partial \\psi}{\\partial \\gamma} = \\psi$, we have\n",
    "$$\n",
    "\\hat{se}\\left(\\hat{\\psi}\\right) = \\left| \\frac{\\partial \\psi}{\\partial \\gamma} \\right| \\hat{se}\\left(\\hat{\\gamma}\\right) = \\psi \\hat{se}\\left(\\hat{\\gamma}\\right)\n",
    "$$\n",
    "\n",
    "\n",
    "*Note*: I intially tried to add in the fact $\\sum_i \\sum_j p_{ij} = 1$, but it seems too complicated to arrive at the above formula. So this is my question. \n"
   ]
  },
  {
   "cell_type": "markdown",
   "metadata": {
    "collapsed": true
   },
   "source": [
    "### 4\n",
    "\n",
    "Given data\n",
    "\n",
    "|   \t| Death sentence | No death sentence |\n",
    "|---\t|---\t|---\t|\n",
    "| Black victim | 14 | 641 |\n",
    "| White victim | 62 | 594 |\n",
    "\n",
    "So we are basically asked to determine whether there is association between race and death sentence. \n",
    "With the following notation $X_{ij}$ - $i=0$: black victim, $i=1$: white victim, $j=0$: death sentence, $j=1$: no death sentence."
   ]
  },
  {
   "cell_type": "code",
   "execution_count": 6,
   "metadata": {},
   "outputs": [],
   "source": [
    "from scipy.stats import chi2"
   ]
  },
  {
   "cell_type": "code",
   "execution_count": 7,
   "metadata": {},
   "outputs": [
    {
     "name": "stdout",
     "output_type": "stream",
     "text": [
      "likelihood test statistic: 34.53, and the p value: 0.00000\n"
     ]
    }
   ],
   "source": [
    "X00 = 14\n",
    "X01 = 641\n",
    "X10 = 62\n",
    "X11 = 594\n",
    "\n",
    "X0d = X00 + X01\n",
    "X1d = X10 + X11\n",
    "Xd0 = X00 + X10\n",
    "Xd1 = X01 + X11\n",
    "\n",
    "X = X00 + X01 + X10 + X11\n",
    "\n",
    "# likelihood test statistic\n",
    "T = 2 * ( X00 * np.log(X00 * X / (X0d * Xd0)) + X01 * np.log(X01 * X / (X0d * Xd1))\n",
    "         + X10 * np.log(X10 * X / (X1d * Xd0)) + X11 * np.log(X11 * X / (X1d * Xd1)))\n",
    "p = 1 - chi2.cdf(T, df=1)\n",
    "print(\"likelihood test statistic: %.2f, and the p value: %.5f\"%(T, p))                    "
   ]
  },
  {
   "cell_type": "code",
   "execution_count": 11,
   "metadata": {},
   "outputs": [
    {
     "name": "stdout",
     "output_type": "stream",
     "text": [
      "Pearson chi sqaure statistic: 32.10, and the p value: 0.00000\n"
     ]
    }
   ],
   "source": [
    "# chi2 test statistic\n",
    "\n",
    "E00 = X0d * Xd0 / X\n",
    "E01 = X0d * Xd1 / X\n",
    "E10 = X1d * Xd0 / X\n",
    "E11 = X1d * Xd1 / X\n",
    "\n",
    "U = (X00-E00)**2/E00 + (X01-E01)**2/E01 + (X10-E10)**2/E10 + (X11-E11)**2/E11\n",
    "p = 1 - chi2.cdf(U, df=1)\n",
    "\n",
    "print(\"Pearson chi sqaure statistic: %.2f, and the p value: %.5f\"%(U, p))                    "
   ]
  },
  {
   "cell_type": "markdown",
   "metadata": {},
   "source": [
    "Both tests reject the null hypothesis. But one can't say that race causes death sentence. One very simple reason is judges' biases. "
   ]
  },
  {
   "cell_type": "code",
   "execution_count": 15,
   "metadata": {},
   "outputs": [
    {
     "name": "stdout",
     "output_type": "stream",
     "text": [
      "psi: 0.21, gamma: -1.56\n",
      "95 percent confidence interval for gamma is (-2.15, -0.97)\n"
     ]
    }
   ],
   "source": [
    "psi = X00*X11/(X01*X10)\n",
    "gamma = np.log(psi)\n",
    "\n",
    "se_gamma = np.sqrt(1/X00 + 1/X01 + 1/X10 + 1/X11)\n",
    "\n",
    "print(\"psi: %.2f, gamma: %.2f\"%(psi, gamma))\n",
    "print(\"95 percent confidence interval for gamma is (%.2f, %.2f)\"%(gamma - 1.96 * se_gamma, gamma + 1.96 * se_gamma))"
   ]
  },
  {
   "cell_type": "code",
   "execution_count": null,
   "metadata": {
    "collapsed": true
   },
   "outputs": [],
   "source": []
  }
 ],
 "metadata": {
  "kernelspec": {
   "display_name": "Python 3",
   "language": "python",
   "name": "python3"
  },
  "language_info": {
   "codemirror_mode": {
    "name": "ipython",
    "version": 3
   },
   "file_extension": ".py",
   "mimetype": "text/x-python",
   "name": "python",
   "nbconvert_exporter": "python",
   "pygments_lexer": "ipython3",
   "version": "3.6.3"
  }
 },
 "nbformat": 4,
 "nbformat_minor": 2
}
