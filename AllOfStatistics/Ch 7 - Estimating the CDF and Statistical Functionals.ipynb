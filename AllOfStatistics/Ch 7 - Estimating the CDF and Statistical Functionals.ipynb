{
 "cells": [
  {
   "cell_type": "code",
   "execution_count": 24,
   "metadata": {
    "collapsed": true
   },
   "outputs": [],
   "source": [
    "%matplotlib inline\n",
    "\n",
    "import matplotlib.pyplot as plt\n",
    "import numpy as np"
   ]
  },
  {
   "cell_type": "code",
   "execution_count": 25,
   "metadata": {
    "collapsed": true
   },
   "outputs": [],
   "source": [
    "# estimating CDF\n",
    "\n",
    "def calculate_CDF(data, intervals=100):\n",
    "    data.sort()\n",
    "    x = np.linspace(data.min(), data.max(), intervals)\n",
    "    \n",
    "    result = []\n",
    "    for xx in x:\n",
    "        result.append(np.sum(data <= xx) / data.shape[0])\n",
    "    \n",
    "    return x, result"
   ]
  },
  {
   "cell_type": "markdown",
   "metadata": {},
   "source": [
    "### 7. Magnitude of earthquakes near Fiji\n",
    "\n",
    "array columns: Obs., lat, long, depth, mag, stations"
   ]
  },
  {
   "cell_type": "code",
   "execution_count": 15,
   "metadata": {},
   "outputs": [],
   "source": [
    "myarray = np.loadtxt('./fijiquakes.dat')"
   ]
  },
  {
   "cell_type": "code",
   "execution_count": 18,
   "metadata": {},
   "outputs": [
    {
     "name": "stdout",
     "output_type": "stream",
     "text": [
      "6.4 4.0\n"
     ]
    }
   ],
   "source": [
    "magnitude = myarray[:, 4]\n",
    "print(magnitude.max(), magnitude.min())"
   ]
  },
  {
   "cell_type": "code",
   "execution_count": 26,
   "metadata": {
    "collapsed": true
   },
   "outputs": [],
   "source": [
    "x, mag_cdf = calculate_CDF(magnitude, 50)"
   ]
  },
  {
   "cell_type": "code",
   "execution_count": 28,
   "metadata": {},
   "outputs": [
    {
     "data": {
      "text/plain": [
       "Text(0.5,1,'Estimated CDF for Earthquake Magnitude')"
      ]
     },
     "execution_count": 28,
     "metadata": {},
     "output_type": "execute_result"
    },
    {
     "data": {
      "image/png": "[encoded data removed]",
      "text/plain": [
       "<matplotlib.figure.Figure at 0x10ed595f8>"
      ]
     },
     "metadata": {},
     "output_type": "display_data"
    }
   ],
   "source": [
    "plt.plot(x, mag_cdf)\n",
    "plt.title(\"Estimated CDF for Earthquake Magnitude\")"
   ]
  },
  {
   "cell_type": "markdown",
   "metadata": {},
   "source": [
    "**DKW Inequality**\n",
    "\n",
    "$$\n",
    "\\mathbb{P} \\left (\\sup_x | F(x) - \\hat F_n (x) | > \\epsilon \\right ) \\leq 2 e^{-2n\\epsilon^2}\n",
    "$$\n",
    "\n",
    "From this, we can construct the confidance band for $F$ as following:\n",
    "\n",
    "Define,\n",
    "$$\n",
    "L(x) = \\max \\{ \\hat F_n (x) - \\epsilon_n , 0 \\} \\\\\n",
    "U(x) = \\min \\{ \\hat F_n (x) + \\epsilon_n , 1 \\}\n",
    "$$\n",
    "where $\\epsilon_n = \\sqrt {\\frac{1}{2n} \\log {\\frac{2}{\\alpha}}}$.\n",
    "\n",
    "Then, \n",
    "$$\n",
    "\\mathbb{P} \\left( L(x) \\leq F(x) \\leq U(x) \\text{ for all }x \\right) \\geq 1 - \\alpha\n",
    "$$"
   ]
  },
  {
   "cell_type": "code",
   "execution_count": 37,
   "metadata": {},
   "outputs": [
    {
     "data": {
      "text/plain": [
       "<matplotlib.collections.PolyCollection at 0x1146fb8d0>"
      ]
     },
     "execution_count": 37,
     "metadata": {},
     "output_type": "execute_result"
    },
    {
     "data": {
      "image/png": "[encoded data removed]",
      "text/plain": [
       "<matplotlib.figure.Figure at 0x1146fb128>"
      ]
     },
     "metadata": {},
     "output_type": "display_data"
    }
   ],
   "source": [
    "alpha = 0.05\n",
    "n = myarray.shape[0]\n",
    "episilon = np.sqrt(1/(2*n) * np.log(2/alpha))\n",
    "\n",
    "L = [max(m-episilon, 0) for m in mag_cdf]\n",
    "U = [min(m+episilon, 1) for m in mag_cdf]\n",
    "\n",
    "plt.plot(x, mag_cdf)\n",
    "plt.fill_between(x, L, U, alpha=0.5)"
   ]
  },
  {
   "cell_type": "markdown",
   "metadata": {},
   "source": [
    "### 8. Eruption times and waiting times of the Old Faithful geyser\n",
    "\n",
    "columns: observation_id, eruptions, waiting"
   ]
  },
  {
   "cell_type": "code",
   "execution_count": 41,
   "metadata": {
    "scrolled": true
   },
   "outputs": [
    {
     "name": "stdout",
     "output_type": "stream",
     "text": [
      "(272, 3)\n"
     ]
    }
   ],
   "source": [
    "data = np.loadtxt('./faithful.dat')\n",
    "n = data.shape[0]\n",
    "print(data.shape)"
   ]
  },
  {
   "cell_type": "markdown",
   "metadata": {},
   "source": [
    "Mean estimate and its standard error:\n",
    "$$ \n",
    "\\hat \\mu = \\frac{1}{n} \\sum_{i=1}^n X_i = \\bar X\\\\\n",
    "\\text{se}(\\hat \\mu) = \\frac{\\hat \\sigma}{\\sqrt{n}}\n",
    "$$\n",
    "where $\\hat \\sigma = \\sqrt{\\frac{1}{n} \\sum_{i=1}^n (X_i - \\bar X)^2} $"
   ]
  },
  {
   "cell_type": "code",
   "execution_count": 47,
   "metadata": {},
   "outputs": [
    {
     "name": "stdout",
     "output_type": "stream",
     "text": [
      "estimate waiting time: 70.90\n",
      "standard error of the estimate: 0.8228\n"
     ]
    }
   ],
   "source": [
    "mean_wt = data[:, 2].mean()\n",
    "ste_wt = np.sqrt(np.sum((data[:, 2] - mean_wt)**2)) / n\n",
    "\n",
    "print(\"estimate waiting time: %.2f\" % mean_wt)\n",
    "print(\"standard error of the estimate: %.4f\" % ste_wt)"
   ]
  },
  {
   "cell_type": "code",
   "execution_count": null,
   "metadata": {
    "collapsed": true
   },
   "outputs": [],
   "source": []
  }
 ],
 "metadata": {
  "kernelspec": {
   "display_name": "Python 3",
   "language": "python",
   "name": "python3"
  },
  "language_info": {
   "codemirror_mode": {
    "name": "ipython",
    "version": 3
   },
   "file_extension": ".py",
   "mimetype": "text/x-python",
   "name": "python",
   "nbconvert_exporter": "python",
   "pygments_lexer": "ipython3",
   "version": "3.6.3"
  }
 },
 "nbformat": 4,
 "nbformat_minor": 2
}
