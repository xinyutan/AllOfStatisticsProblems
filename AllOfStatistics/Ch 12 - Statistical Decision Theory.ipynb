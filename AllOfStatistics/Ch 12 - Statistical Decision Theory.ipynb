{
 "cells": [
  {
   "cell_type": "markdown",
   "metadata": {},
   "source": [
    "### 1\n",
    "\n",
    "Bayes risk:\n",
    "$$\n",
    "r\\left(f, \\hat \\theta \\right) = \\int R \\left( \\theta, \\hat \\theta \\right ) f(\\theta)d\\theta\n",
    "$$\n",
    "where $R \\left( \\theta, \\hat \\theta \\right ) = \\int L \\left( \\theta, \\hat \\theta (x) \\right ) f(x; \\theta)dx$\n"
   ]
  },
  {
   "cell_type": "markdown",
   "metadata": {},
   "source": [
    "#### (a)\n",
    "\n",
    "Bayes risk:\n",
    "$$\n",
    "\\begin{align}\n",
    "r &= \\int \\left ( \\sum_{x=0}^n \\left( p-\\hat p\\right)^2 \\begin{pmatrix} n \\\\ x \\end{pmatrix} p^x (1-p)^{n-x}\\right ) \\frac{\\Gamma(\\alpha+\\beta)}{\\Gamma(\\alpha)\\Gamma(\\beta)}p^{\\alpha-1}(1-p)^{\\beta-1}dp \\\\\n",
    "&= \\frac{\\Gamma(\\alpha+\\beta)}{\\Gamma(\\alpha)\\Gamma(\\beta)} \\int \\sum_{x=0}^n \\frac{n!}{x!(n-x)!} \\left(p-\\hat {p(x)}\\right)^2 p^{x+\\alpha-1} (1-p)^{n-x+\\beta-1}dp \\\\\n",
    "&= \\frac{\\Gamma(\\alpha+\\beta)}{\\Gamma(\\alpha)\\Gamma(\\beta)} \\sum_{x=0}^n \\frac{n!}{x!(n-x)!} \\int \\left(p-\\hat {p(x)}\\right)^2 p^{x+\\alpha-1} (1-p)^{n-x+\\beta-1}dp\n",
    "\\end{align}\n",
    "$$\n",
    "\n",
    "Bayes estimator is the estimator that minimize the Bayes risk. With square loss function, according to Theorem 12.8,\n",
    "$$\n",
    "\\hat {\\theta(x)} = \\mathbb{E}(\\theta|X=x) = \\frac{x + \\alpha}{n + \\alpha + \\beta}\n",
    "$$"
   ]
  },
  {
   "cell_type": "markdown",
   "metadata": {},
   "source": [
    "#### (b)\n",
    "\n",
    "$X \\sim \\text{Poisson}(\\lambda), \\lambda \\sim \\text{Gamma} (\\alpha, \\beta)$\n",
    "\n",
    "Risk: $R = \\sum_{x=0} \\left(\\lambda - \\hat \\lambda \\right)^2 \\frac{e^{-\\lambda}\\lambda^x}{x!}$\n",
    "\n",
    "Bayes risk:\n",
    "$$\n",
    "\\begin{align}\n",
    "r &= \\int R f(\\lambda) d\\lambda \\\\\n",
    "&= \\sum_{x=0} \\frac{1}{\\Gamma(\\alpha)\\beta^{\\alpha}x!} \\int \\left(\\lambda - \\hat \\lambda \\right)^2 \\lambda^{x+\\alpha-1}e^{-\\lambda(1+1/\\beta)} d\\lambda\n",
    "\\end{align}\n",
    "$$\n",
    "\n",
    "Bayes estimator:\n",
    "$$\n",
    "\\hat {\\lambda(x)} = (\\alpha + x) \\frac{\\beta}{\\beta + 1}\n",
    "$$\n"
   ]
  },
  {
   "cell_type": "markdown",
   "metadata": {},
   "source": [
    "#### (c)\n",
    "\n",
    "$X \\sim N(\\theta, \\sigma^2)$ where $\\sigma$ is known, and $\\theta \\sim N(a, b^2)$\n",
    "\n",
    "Risk: $R(\\theta, \\hat \\theta) = \\int \\left (\\theta - \\hat \\theta \\right)^2 \\frac{1}{\\sqrt{2\\pi}\\sigma} \\exp \\left (- \\frac{\\left(x-\\theta \\right)^2}{2\\sigma^2} \\right ) dx$\n",
    "\n",
    "Bayes risk:\n",
    "$$\n",
    "\\begin{align}\n",
    "r = \\frac{1}{2\\pi b \\sigma} \\int \\int \\left (\\theta - \\hat \\theta \\right)^2 \\exp \\left (- \\frac{\\left(x-\\theta \\right)^2}{2\\sigma^2}  - \\frac{\\left(\\theta -a \\right)^2}{2b^2} \\right ) dx d\\theta\n",
    "\\end{align}\n",
    "$$\n",
    "\n",
    "Bayes estimator:\n",
    "$$\n",
    "\\hat \\theta = \\frac{xb^2 + a\\sigma^2}{b^2 + \\sigma^2}\n",
    "$$"
   ]
  },
  {
   "cell_type": "markdown",
   "metadata": {},
   "source": [
    "### 2\n",
    "\n",
    "Risk:\n",
    "$$\n",
    "R\\left(\\theta, \\hat \\theta \\right) = \\mathbb{E} \\left ( \\frac{\\left (\\theta - \\hat \\theta \\right)^2}{\\sigma^2} \\right) = \\mathbb{E} \\left ( \\frac{\\left (\\theta - \\bar X \\right)^2}{\\sigma^2} \\right) = \\frac{1}{n}\n",
    "$$\n",
    "which, as a function of $\\theta$, is constant. "
   ]
  },
  {
   "cell_type": "markdown",
   "metadata": {},
   "source": []
  }
 ],
 "metadata": {
  "kernelspec": {
   "display_name": "Python 3",
   "language": "python",
   "name": "python3"
  },
  "language_info": {
   "codemirror_mode": {
    "name": "ipython",
    "version": 3
   },
   "file_extension": ".py",
   "mimetype": "text/x-python",
   "name": "python",
   "nbconvert_exporter": "python",
   "pygments_lexer": "ipython3",
   "version": "3.6.3"
  }
 },
 "nbformat": 4,
 "nbformat_minor": 2
}
