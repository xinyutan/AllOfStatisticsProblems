{
 "cells": [
  {
   "cell_type": "code",
   "execution_count": 2,
   "metadata": {},
   "outputs": [],
   "source": [
    "%matplotlib inline\n",
    "import matplotlib.pyplot as plt\n",
    "import numpy as np"
   ]
  },
  {
   "cell_type": "markdown",
   "metadata": {},
   "source": [
    "### 2 \n",
    "\n",
    "Estimator for $\\beta_1$:\n",
    "$$\n",
    "\\hat{\\beta_1} = \\frac{\\sum_{i=1}^n (X_i - \\bar {X_n})(Y_i - \\bar {Y_n})}{\\sum_{i=1}^n (X_i - \\bar {X_n})^2} \n",
    "$$\n",
    "\n",
    "Given $X_1, \\cdots, X_n$, the expectation of the estimator is\n",
    "$$\n",
    "\\mathbb{E}\\left(\\hat{\\beta_1}\\right) = \\frac{\\sum_{i=1}^n (X_i - \\bar {X_n})}{\\sum_{i=1}^n (X_i - \\bar {X_n})^2} \\mathbb{E}\\left(Y_i - \\bar {Y_n}\\right) = \\frac{\\sum_{i=1}^n (X_i - \\bar {X_n})}{\\sum_{i=1}^n (X_i - \\bar {X_n})^2} \\mathbb{E}\\left(\\beta_1(X_i - \\bar {X_n})\\right) = \\beta_1\n",
    "$$\n",
    "\n",
    "Notice that $\\sum_{i=1}^n (X_i - \\bar {X_n}) \\bar{Y_n} = (n\\bar{X_n} - n\\bar{X_n})\\bar{Y_n} = 0$, then\n",
    "$$\n",
    "\\begin{align}\n",
    "\\mathbb{V}\\left(\\hat{\\beta_1}\\right) &= \\mathbb{V}\\left ( \\frac{\\sum_{i=1}^n (X_i - \\bar {X_n})(Y_i - \\bar {Y_n})}{\\sum_{i=1}^n (X_i - \\bar {X_n})^2} \\right ) \\\\\n",
    "&= \\mathbb{V}\\left ( \\frac{\\sum_{i=1}^n (X_i - \\bar {X_n})Y_i}{\\sum_{i=1}^n (X_i - \\bar {X_n})^2} \\right ) \\\\\n",
    "&= \\mathbb{V}\\left ( \\frac{\\sum_{i=1}^n (X_i - \\bar {X_n})\\left(\\beta_0 + \\beta_1 X_i + \\epsilon_i \\right)}{\\sum_{i=1}^n (X_i - \\bar {X_n})^2} \\right ) \\\\\n",
    "&= \\mathbb{V}\\left ( \\frac{\\sum_{i=1}^n (X_i - \\bar {X_n})\\epsilon_i}{\\sum_{i=1}^n (X_i - \\bar {X_n})^2} \\right ) \\\\\n",
    "&=  \\frac{\\sum_{i=1}^n (X_i - \\bar {X_n})^2}{\\left(\\sum_{j=1}^n (X_j - \\bar {X_n})^2\\right)^2} \\mathbb{V}(\\epsilon_i) \\\\\n",
    "&= \\frac{1}{\\sum_{i=1}^n (X_i - \\bar {X_n})^2} \\sigma^2\n",
    "\\end{align} \n",
    "$$\n",
    "\n",
    "One thing I got confused at the beginning is where does the variance comes from, what is constant under the $\\mathbb{V}()$ - notice that we treat all the data and \"correct\" parameters $\\beta_0, \\beta_1$ as constants."
   ]
  },
  {
   "cell_type": "markdown",
   "metadata": {},
   "source": [
    "Estimator for $\\beta_0$.\n",
    "\n",
    "$$\n",
    "\\hat {\\beta_0} = \\bar {Y_n} - \\hat {\\beta_1} \\bar {X_n}\n",
    "$$\n",
    "\n",
    "The expectation of the estimator is\n",
    "$$\n",
    "\\mathbb{E} \\left ( \\hat {\\beta_0} \\right) = \\mathbb{E} \\left ( \\beta_0 + \\beta_1 \\bar {X_n} + \\frac{1}{n} \\sum \\epsilon_i \\right) - \\mathbb{E} \\left (\\beta_1 \\bar {X_n} \\right) = \\beta_0\n",
    "$$\n",
    "\n",
    "Variance: \n",
    "$$\n",
    "\\begin{align}\n",
    "\\mathbb{V}\\left ( \\hat {\\beta_0} \\right) &= \\mathbb{V} \\left ( \\frac{1}{n}\\sum_{i=1}^n Y_i - \\frac{\\sum_{i=1}^n (X_i - \\bar {X_n})\\bar {X_n} Y_i}{\\sum_{i=1}^n (X_i - \\bar {X_n})^2} \\right) \\\\\n",
    "&= \\mathbb{V}\\left ( \\sum_{i=0}^n \\left (\\frac{1}{n} - \\frac{(X_i - \\bar {X_n})\\bar {X_n}}{\\sum_{i=1}^n (X_i - \\bar {X_n})^2} \\right) Y_i \\right) \\\\\n",
    "&= \\sum_{i=1}^n\\left (  \\frac{1}{n} - \\frac{ (X_i - \\bar {X_n})\\bar {X_n}}{\\sum_{i=1}^n (X_i - \\bar {X_n})^2}  \\right)^2 \\mathbb{V}(Y_i) = \\sum_{i=1}^n\\left ( \\frac{1}{n} - \\frac{ (X_i - \\bar {X_n})\\bar {X_n}}{\\sum_{i=1}^n (X_i - \\bar {X_n})^2}  \\right)^2 \\sigma^2 \\\\\n",
    "&= \\sum_{i=1}^n\\left( \\frac{1}{n^2} - 2\\frac{1}{n} \\frac{ (X_i - \\bar {X_n})\\bar {X_n}}{\\sum_{j=1}^n (X_j - \\bar {X_n})^2} + \\left(\\frac{ (X_i - \\bar {X_n})\\bar {X_n}}{\\sum_{j=1}^n (X_j - \\bar {X_n})^2}\\right)^2 \\right)\\sigma^2 \\\\\n",
    "&= \\left(\\frac{1}{n} + \\frac{\\bar{X_n}^2}{\\sum_{j=1}^n(X_j - \\bar{X_n})^2} \\right)\\sigma^2 \\\\ \n",
    "&= \\left(\\frac{\\sum_{i=1}^n(X_i - \\bar{X_n})^2 + n\\bar{X_n}^2}{n\\sum_{j=1}^n(X_j - \\bar{X_n})^2}\\right)\\sigma^2 \\\\\n",
    "&= \\frac{\\sigma^2\\sum_{i=1}^n X_i^2}{n\\sum_{j=1}^n(X_j - \\bar{X_n})^2} \n",
    "\\end{align}\n",
    "$$"
   ]
  },
  {
   "cell_type": "markdown",
   "metadata": {},
   "source": [
    "### 3\n",
    "\n",
    "Given $Y_i = \\beta X_i + \\epsilon$, the least square estimate for $\\beta$ is \n",
    "$$\n",
    "\\hat \\beta = \\frac{\\sum_{i=1}^n X_iY_i}{\\sum_{j=1}^n X_j^2}\n",
    "$$\n",
    "\n",
    "Variance of the estimator is\n",
    "$$\n",
    "\\mathbb{V}\\left(\\hat \\beta \\right) = \\mathbb{V}\\left(\\frac{\\sum_{i=1}^n X_iY_i}{\\sum_{j=1}^n X_j^2} \\right ) = \\frac{\\sum_{i=1}^n X_i \\mathbb{V} \\left( Y_i\\right)}{\\sum_{j=1}^n X_j^2} = \\frac{\\sum_{i=1}^n X_i }{\\sum_{j=1}^n X_j^2}\\mathbb{V} \\left( \\epsilon \\right)\n",
    "$$\n",
    "\n",
    "An estimator is consistent if\n",
    "$$\n",
    "\\lim_{n\\rightarrow \\infty} P\\left( \\left| \\hat {\\beta_n} - \\beta \\right| > \\epsilon \\right) \\rightarrow 0\n",
    "$$\n",
    "\n",
    "Let's calculate\n",
    "$$\n",
    "\\begin{align}\n",
    "P\\left( \\left| \\hat {\\beta_n} - \\beta \\right| > \\epsilon \\right) &= P\\left( \\left| \\frac{\\sum_{i=1}^n X_iY_i}{\\sum_{j=1}^n X_j^2} - \\beta \\right| > \\epsilon' \\right) \\\\\n",
    "&= P\\left( \\left| \\frac{\\sum_{i=1}^n X_i \\left(\\beta X_i + \\epsilon \\right) }{\\sum_{j=1}^n X_j^2} - \\beta \\right| > \\epsilon' \\right) \\\\\n",
    "&= P\\left( \\left| \\frac{\\sum_{i=1}^n X_i \\epsilon  }{\\sum_{j=1}^n X_j^2} \\right| > \\epsilon' \\right)\n",
    "\\end{align}\n",
    "$$\n",
    "\n",
    "From Markov's inequality,\n",
    "$$\n",
    "P\\left( \\left| \\frac{\\sum_{i=1}^n X_i \\epsilon  }{\\sum_{j=1}^n X_j^2} \\right| > \\epsilon' \\right) \\leq \\frac{1}{\\epsilon'} \\mathbb{E} \\left(\\left| \\frac{\\sum_{i=1}^n X_i \\epsilon  }{\\sum_{j=1}^n X_j^2} \\right| \\right) \\leq \\frac{\\sum_{i=1}^n \\mathbb{E} \\left ( \\left|X_i \\epsilon  \\right| \\right) }{\\epsilon'\\sum_{j=1}^n X_j^2} = \\frac{\\sum_{i=1}^n \\left|X_i  \\right| }{\\epsilon'\\sum_{j=1}^n X_j^2} \\mathbb{E}\\left(\\epsilon \\right)\n",
    "$$\n",
    "\n",
    "Therefore, if $\\mathbb{E}\\left(\\epsilon \\right) = 0$, then it guarentees that \n",
    "$$\\lim_{n\\rightarrow \\infty} P\\left( \\left| \\hat {\\beta_n} - \\beta \\right| > \\epsilon \\right) \\leq \\frac{\\sum_{i=1}^n \\left|X_i  \\right| }{\\epsilon'\\sum_{j=1}^n X_j^2} \\mathbb{E}\\left(\\epsilon \\right) = 0 $$\n",
    "\n",
    "Hence, the estimator is consistent. "
   ]
  },
  {
   "cell_type": "markdown",
   "metadata": {
    "collapsed": true
   },
   "source": [
    "### 4\n",
    "\n",
    "$$\n",
    "\\begin{align}\n",
    "\\text{bias}\\left(\\hat {R}_{tr}(S)\\right) &= \\mathbb{E}\\left(\\hat {R}_{tr}(S)\\right) - R(S) \\\\\n",
    "&= \\mathbb{E}\\left( \\sum_{i=1}^n \\left(\\hat{Y}_{i}(S) - Y_i\\right)^2 \\right) - \\sum_{i=1}^n\\mathbb{E}\\left(\\hat{Y}_i(S)-Y_i^*\\right)^2 \\\\\n",
    "&= \\sum_{i=1}^n \\left ( \\mathbb{E}(\\hat Y_i(s)^2)  - 2\\mathbb{E}(\\hat Y_i(s)Y_i) + \\mathbb{E}(Y_i^2) - \\mathbb{E}(\\hat Y_i(s)^2) + 2\\mathbb{E}(\\hat Y_i(s)Y_i^*) - \\mathbb{E}(Y_i^{*2}) \\right) \\\\\n",
    "&= \\sum_{i=1}^n \\left ( - 2\\mathbb{E}(\\hat Y_i(s)Y_i) + \\mathbb{E}(Y_i^2) + 2\\mathbb{E}(\\hat Y_i(s)Y_i^*) - \\mathbb{E}(Y_i^{*2})  \\right )\n",
    "\\end{align}\n",
    "$$\n",
    "\n",
    "Since $Y_i^*$ denotes the value of a future observation of $Y_i$ at covariate value $X_i$, and we can assume the process generating two values are not changed, we have $\\mathbb {E} (Y_i^{*2}) = \\mathbb{E} (Y_i^2)$.\n",
    "\n",
    "$$\n",
    "\\begin{align}\n",
    "\\text{bias}\\left(\\hat {R}_{tr}(S)\\right) = - 2 \\sum_{i=1}^n \\left ( \\mathbb{E}(\\hat Y_i(s)Y_i) -\\mathbb{E}(\\hat Y_i(s)Y_i^*) \\right )\n",
    "\\end{align}\n",
    "$$\n",
    "\n",
    "Notice that $\\hat Y_i\\left(s\\right)$ is independent from $Y_i^*$, $\\mathbb{E}\\left(\\hat Y_i(s)Y_i^*\\right) =\\mathbb{E}\\left(\\hat Y_i(s)\\right) \\mathbb{E}\\left(Y_i^*\\right) = \\mathbb{E}\\left(\\hat Y_i(s)\\right) \\mathbb{E}\\left(Y_i \\right)$, hence\n",
    "$$\n",
    "\\text{bias}\\left(\\hat {R}_{tr}(S)\\right) = - 2 \\sum_{i=1}^n \\left ( \\mathbb{E}(\\hat Y_i(s)Y_i) -\\mathbb{E}(\\hat Y_i(s)Y_i^*) \\right ) = - 2 \\sum_{i=1}^n \\left ( \\mathbb{E}\\left(\\hat Y_i(s)Y_i\\right) - \\mathbb{E}\\left(\\hat Y_i(s)\\right) \\mathbb{E}\\left(Y_i \\right)\\right ) = - 2 \\sum_{i}\\text{Cov}\\left(\\hat Y_i, Y_i \\right)\n",
    "$$"
   ]
  },
  {
   "cell_type": "markdown",
   "metadata": {},
   "source": [
    "### 5 \n",
    "\n",
    "The test can be rearranged as: $H_0: \\beta_1 - 17 \\beta_0 = 0$ versus $H_1: \\beta_1 -17\\beta_0 \\neq 0$.\n",
    "\n",
    "The Wald statistics is:\n",
    "$$\n",
    "W = \\frac{\\hat \\beta_1 - 17 \\hat \\beta_0}{\\hat {se}\\left(\\hat \\beta_1 - 17 \\hat \\beta_0 \\right)}\n",
    "$$\n",
    "\n",
    "The key is to calculate $\\hat {se}\\left(\\hat \\beta_1 - 17 \\hat \\beta_0 \\right)$.\n",
    "\n",
    "$$\n",
    "\\mathbb{V}\\left(\\hat \\beta | X^n\\right) = \\frac{\\hat \\sigma^2}{n s_X^2} \\begin{pmatrix} \\frac{1}{n}\\sum X_i^2 & -\\bar {X_n} \\\\\n",
    "-\\bar{X_n} & 1\\end{pmatrix}\n",
    "$$\n",
    "\n",
    "Borrowing the idea from multi-paramter delta method, we have \n",
    "$$\n",
    "\\hat {se}\\left(\\hat \\beta_1 - 17 \\hat \\beta_0 \\right) = \\sqrt{\n",
    "\\begin{bmatrix}-17 & 1 \\end{bmatrix} \\mathbb{V}\\left(\\hat \\beta | X^n\\right) \\begin{bmatrix}-17 \\\\ 1 \\end{bmatrix}} = \\frac{\\hat \\sigma}{\\sqrt{n}s_X}\\sqrt{\\frac{17^2}{n}\\sum X_i^2 + 34 \\bar {X_n} + 1}\n",
    "$$"
   ]
  },
  {
   "cell_type": "markdown",
   "metadata": {},
   "source": [
    "### 6\n",
    "\n",
    "The columns: MAKE MODEL VOL HP MPG SP WT"
   ]
  },
  {
   "cell_type": "code",
   "execution_count": 11,
   "metadata": {},
   "outputs": [],
   "source": [
    "import pandas as pd\n",
    "\n",
    "data = pd.read_csv('./carmileage.dat', sep='\\t', header=None, names=['MAKE', 'MODEL', 'VOL', 'HP', 'MPG', 'SP', 'WT'])\n",
    "hp = data['HP']\n",
    "mpg = data['MPG']"
   ]
  },
  {
   "cell_type": "code",
   "execution_count": 14,
   "metadata": {},
   "outputs": [
    {
     "data": {
      "text/plain": [
       "Text(0,0.5,'MPG')"
      ]
     },
     "execution_count": 14,
     "metadata": {},
     "output_type": "execute_result"
    },
    {
     "data": {
      "image/png": "[encoded data removed]",
      "text/plain": [
       "<matplotlib.figure.Figure at 0x11221f320>"
      ]
     },
     "metadata": {},
     "output_type": "display_data"
    }
   ],
   "source": [
    "plt.scatter(hp, mpg)\n",
    "plt.xlabel('HP')\n",
    "plt.ylabel('MPG')"
   ]
  },
  {
   "cell_type": "markdown",
   "metadata": {},
   "source": [
    "#### (a)\n",
    "\n",
    "Assume we have $mpg = \\beta_1 hp + \\beta_0$"
   ]
  },
  {
   "cell_type": "code",
   "execution_count": 27,
   "metadata": {},
   "outputs": [
    {
     "data": {
      "text/plain": [
       "<matplotlib.legend.Legend at 0x1128c53c8>"
      ]
     },
     "execution_count": 27,
     "metadata": {},
     "output_type": "execute_result"
    },
    {
     "data": {
      "image/png": "[encoded data removed]",
      "text/plain": [
       "<matplotlib.figure.Figure at 0x1127f40b8>"
      ]
     },
     "metadata": {},
     "output_type": "display_data"
    }
   ],
   "source": [
    "mpg_bar = mpg.mean()\n",
    "hp_bar = hp.mean()\n",
    "\n",
    "beta1 = np.sum((mpg-mpg_bar) * (hp-hp_bar))/np.sum((hp-hp_bar)**2)\n",
    "beta0 = mpg_bar - beta1 * hp_bar\n",
    "\n",
    "plt.plot(hp, mpg, 'o', label=\"data\")\n",
    "plt.plot(np.linspace(0, 250, 100), beta1*np.linspace(0, 250, 100) + beta0, label=\"LR: %.2f h + %.2f\"%(beta1, beta0))\n",
    "plt.xlabel('HP')\n",
    "plt.ylabel('MPG')\n",
    "plt.legend()"
   ]
  },
  {
   "cell_type": "code",
   "execution_count": 28,
   "metadata": {},
   "outputs": [
    {
     "name": "stdout",
     "output_type": "stream",
     "text": [
      "Training error: 37205.79\n"
     ]
    },
    {
     "data": {
      "text/plain": [
       "Text(0,0.5,'absolute error (predict - true)')"
      ]
     },
     "execution_count": 28,
     "metadata": {},
     "output_type": "execute_result"
    },
    {
     "data": {
      "image/png": "[encoded data removed]",
      "text/plain": [
       "<matplotlib.figure.Figure at 0x10c23ea58>"
      ]
     },
     "metadata": {},
     "output_type": "display_data"
    }
   ],
   "source": [
    "# training error\n",
    "\n",
    "R = np.sum((mpg - (hp*beta1 + beta0))**2)\n",
    "print(\"Training error: %.2f\"%R)\n",
    "\n",
    "plt.plot(hp, np.abs(mpg - (hp*beta1 + beta0)), 'r+')\n",
    "plt.xlabel('hp')\n",
    "plt.ylabel('absolute error (predict - true)')"
   ]
  },
  {
   "cell_type": "markdown",
   "metadata": {},
   "source": [
    "#### (b) \n",
    "\n",
    "Assume we have model: $\\log {mpg} = \\alpha_1 hp  + \\alpha_0$"
   ]
  },
  {
   "cell_type": "code",
   "execution_count": 37,
   "metadata": {},
   "outputs": [
    {
     "data": {
      "text/plain": [
       "<matplotlib.legend.Legend at 0x112ef9518>"
      ]
     },
     "execution_count": 37,
     "metadata": {},
     "output_type": "execute_result"
    },
    {
     "data": {
      "image/png": "[encoded data removed]",
      "text/plain": [
       "<matplotlib.figure.Figure at 0x112c27f28>"
      ]
     },
     "metadata": {},
     "output_type": "display_data"
    }
   ],
   "source": [
    "lgmpg = np.log(mpg)\n",
    "lgmpg_bar = lgmpg.mean()\n",
    "\n",
    "alpha1 = np.sum((lgmpg-lgmpg_bar) * (hp-hp_bar))/np.sum((hp-hp_bar)**2)\n",
    "alpha0 = lgmpg_bar - alpha1 * hp_bar\n",
    "\n",
    "plt.plot(hp, lgmpg, 'o', label=\"data\")\n",
    "plt.plot(np.linspace(0, 250, 100), alpha1*np.linspace(0, 250, 100) + alpha0, label=\"LR: %.2f log(h) + %.2f\"%(alpha1, alpha0))\n",
    "plt.xlabel('HP')\n",
    "plt.ylabel('log(MPG)')\n",
    "plt.legend()"
   ]
  },
  {
   "cell_type": "code",
   "execution_count": 40,
   "metadata": {},
   "outputs": [
    {
     "name": "stdout",
     "output_type": "stream",
     "text": [
      "Training error: 19749.96\n"
     ]
    },
    {
     "data": {
      "text/plain": [
       "Text(0,0.5,'absolute error (predict - true)')"
      ]
     },
     "execution_count": 40,
     "metadata": {},
     "output_type": "execute_result"
    },
    {
     "data": {
      "image/png": "[encoded data removed]",
      "text/plain": [
       "<matplotlib.figure.Figure at 0x112515400>"
      ]
     },
     "metadata": {},
     "output_type": "display_data"
    }
   ],
   "source": [
    "# training error\n",
    "\n",
    "lgR = np.sum((np.exp(lgmpg) - np.exp(hp*alpha1 + alpha0))**2)\n",
    "print(\"Training error: %.2f\"%lgR)\n",
    "\n",
    "plt.plot(hp, np.abs(np.exp(lgmpg) - np.exp(hp*alpha1 + alpha0)), 'r+')\n",
    "plt.xlabel('hp')\n",
    "plt.ylabel('absolute error (predict - true)')"
   ]
  },
  {
   "cell_type": "code",
   "execution_count": 42,
   "metadata": {},
   "outputs": [
    {
     "data": {
      "text/plain": [
       "MAKE      0\n",
       "MODEL     2\n",
       "VOL       0\n",
       "HP        0\n",
       "MPG       0\n",
       "SP        0\n",
       "WT       55\n",
       "dtype: int64"
      ]
     },
     "execution_count": 42,
     "metadata": {},
     "output_type": "execute_result"
    }
   ],
   "source": [
    "data.isnull().sum()"
   ]
  },
  {
   "cell_type": "markdown",
   "metadata": {},
   "source": [
    "### 7\n",
    "\n",
    "#### (a)"
   ]
  },
  {
   "cell_type": "code",
   "execution_count": 67,
   "metadata": {},
   "outputs": [],
   "source": [
    "X = np.array(data[['VOL', 'HP', 'SP']])\n",
    "X = np.concatenate((X, np.ones((X.shape[0], 1))), axis=1)\n",
    "y = data['MPG']"
   ]
  },
  {
   "cell_type": "code",
   "execution_count": 68,
   "metadata": {},
   "outputs": [
    {
     "name": "stdout",
     "output_type": "stream",
     "text": [
      "[  0.3519232    0.10335787  -0.95720083  96.63196578] (4,)\n"
     ]
    }
   ],
   "source": [
    "beta_hat = np.matmul(np.matmul(np.linalg.inv(np.matmul(X.T, X)), X.T), y)\n",
    "\n",
    "print(beta_hat, beta_hat.shape)"
   ]
  },
  {
   "cell_type": "code",
   "execution_count": 69,
   "metadata": {},
   "outputs": [
    {
     "name": "stdout",
     "output_type": "stream",
     "text": [
      "Training error: 3749.64\n"
     ]
    }
   ],
   "source": [
    "y_pred = np.matmul(X, beta_hat)\n",
    "\n",
    "print(\"Training error: %.2f\"%np.sum((y_pred-y)**2))"
   ]
  },
  {
   "cell_type": "markdown",
   "metadata": {},
   "source": [
    "Covariate in the case is: VOL, HP, SP, and intercept. Let's calculate the coefficient, the standard error, t value and p-value."
   ]
  },
  {
   "cell_type": "code",
   "execution_count": 86,
   "metadata": {},
   "outputs": [
    {
     "name": "stdout",
     "output_type": "stream",
     "text": [
      "beta for 'Vol' is 0.35, se: 0.018, t-value: 20.03, p value: 0.00000\n",
      "beta for 'HP' is 0.10, se: 0.034, t-value: 3.03, p value: 0.00245\n",
      "beta for 'SP' is -0.96, se: 0.039, t-value: -24.40, p value: 0.00000\n",
      "beta for intercept is 96.63, se: 2.444, t-value: 39.54, p value: 0.00000\n"
     ]
    }
   ],
   "source": [
    "from scipy import stats\n",
    "\n",
    "n = X.shape[0]\n",
    "sigma2 = 1/(n - 3) * np.sum((y_pred-y)**2)\n",
    "V = sigma2 * np.linalg.inv(np.matmul(X.T,X))\n",
    "\n",
    "# 'VOL'\n",
    "vol_t = beta_hat[0]/np.sqrt(V[0,0])\n",
    "vol_p = (1 - stats.norm.cdf(vol_t))*2\n",
    "print(\"beta for 'Vol' is %.2f, se: %.3f, t-value: %.2f, p value: %.5f\" % (beta_hat[0], np.sqrt(V[0,0]), \n",
    "                                                                          vol_t, vol_p))\n",
    "\n",
    "# 'HP'\n",
    "hp_t = beta_hat[1]/np.sqrt(V[1,1])\n",
    "hp_p = (1 - stats.norm.cdf(hp_t))*2\n",
    "print(\"beta for 'HP' is %.2f, se: %.3f, t-value: %.2f, p value: %.5f\" % (beta_hat[1], np.sqrt(V[1,1]), \n",
    "                                                                          hp_t, hp_p))\n",
    "\n",
    "# 'SP'\n",
    "sp_t = beta_hat[2]/np.sqrt(V[2,2])\n",
    "sp_p = (1 - stats.norm.cdf(np.abs(sp_t)))*2\n",
    "print(\"beta for 'SP' is %.2f, se: %.3f, t-value: %.2f, p value: %.5f\" % (beta_hat[2], np.sqrt(V[2,2]), \n",
    "                                                                          sp_t, sp_p))\n",
    "\n",
    "# intercept\n",
    "intercept_t = beta_hat[3]/np.sqrt(V[3,3])\n",
    "intercept_p = (1 - stats.norm.cdf(np.abs(intercept_t)))*2\n",
    "print(\"beta for intercept is %.2f, se: %.3f, t-value: %.2f, p value: %.5f\" % (beta_hat[3], np.sqrt(V[3,3]), \n",
    "                                                                          intercept_t, intercept_p))"
   ]
  },
  {
   "cell_type": "markdown",
   "metadata": {},
   "source": [
    "#### (b)\n",
    "\n",
    "Mallow's statistic: $\\hat R(S) = \\hat R_{tr}(S) + 2\\left|S\\right|{\\hat \\sigma}^2 $\n",
    "\n",
    "First adding covariates. According to the p-values above, we will add in the order of SP, VOl, HP."
   ]
  },
  {
   "cell_type": "code",
   "execution_count": 88,
   "metadata": {},
   "outputs": [
    {
     "name": "stdout",
     "output_type": "stream",
     "text": [
      "R_full: 4034.43\n"
     ]
    }
   ],
   "source": [
    "# full model's Mallow Cp statistic\n",
    "\n",
    "R_full = np.sum((y_pred-y)**2) + 2 * 3 * sigma2\n",
    "print(\"R_full: %.2f\"%R_full)"
   ]
  },
  {
   "cell_type": "code",
   "execution_count": 94,
   "metadata": {
    "collapsed": true
   },
   "outputs": [],
   "source": [
    "def beta(x, y):\n",
    "    return np.matmul(np.matmul(np.linalg.inv(np.matmul(x.T, x)), x.T), y)\n",
    "\n",
    "def training_error(y_pred, y):\n",
    "    return np.sum((y_pred-y)**2)\n",
    "\n",
    "R = lambda te, s: te + 2*s*sigma2"
   ]
  },
  {
   "cell_type": "code",
   "execution_count": 97,
   "metadata": {},
   "outputs": [
    {
     "name": "stdout",
     "output_type": "stream",
     "text": [
      "training error: 26208.42, R1: 26303.35\n"
     ]
    }
   ],
   "source": [
    "# add SP\n",
    "X1 = np.array(data[['SP']])\n",
    "X1 = np.concatenate((X1, np.ones((n, 1))), axis=1)\n",
    "\n",
    "beta_hat1 = beta(X1, y)\n",
    "ypred1 = np.matmul(X1, beta_hat1)\n",
    "training_error1 = training_error(ypred1, y)\n",
    "R1 = R(training_error1, 1)\n",
    "\n",
    "print(\"training error: %.2f, R1: %.2f\"%(training_error1, R1))"
   ]
  },
  {
   "cell_type": "code",
   "execution_count": 98,
   "metadata": {},
   "outputs": [
    {
     "name": "stdout",
     "output_type": "stream",
     "text": [
      "training error: 4185.26, R1: 4375.11\n"
     ]
    }
   ],
   "source": [
    "# add VOL\n",
    "X2 = np.array(data[['SP', 'VOL']])\n",
    "X2 = np.concatenate((X2, np.ones((n, 1))), axis=1)\n",
    "\n",
    "beta_hat2 = beta(X2, y)\n",
    "ypred2 = np.matmul(X2, beta_hat2)\n",
    "training_error2 = training_error(ypred2, y)\n",
    "R2 = R(training_error2, 2)\n",
    "\n",
    "print(\"training error: %.2f, R1: %.2f\"%(training_error2, R2))"
   ]
  },
  {
   "cell_type": "markdown",
   "metadata": {},
   "source": [
    "If we were to add 'HP', it will become the full model. And we know for full model, the Mallow's Cp statistic is 4034.43. "
   ]
  },
  {
   "cell_type": "code",
   "execution_count": null,
   "metadata": {
    "collapsed": true
   },
   "outputs": [],
   "source": []
  }
 ],
 "metadata": {
  "kernelspec": {
   "display_name": "Python 3",
   "language": "python",
   "name": "python3"
  },
  "language_info": {
   "codemirror_mode": {
    "name": "ipython",
    "version": 3
   },
   "file_extension": ".py",
   "mimetype": "text/x-python",
   "name": "python",
   "nbconvert_exporter": "python",
   "pygments_lexer": "ipython3",
   "version": "3.6.3"
  }
 },
 "nbformat": 4,
 "nbformat_minor": 2
}
