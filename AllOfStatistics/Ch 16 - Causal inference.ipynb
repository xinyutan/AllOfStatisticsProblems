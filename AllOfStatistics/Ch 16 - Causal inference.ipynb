{
 "cells": [
  {
   "cell_type": "markdown",
   "metadata": {},
   "source": [
    "### 2\n",
    "\n",
    "#### (1)\n",
    "\n",
    "Eq.16.7:\n",
    "$$\n",
    "\\begin{align}\n",
    "\\theta(x) &= \\mathbb{E}(Y) = \\int \\int \\mathbb{E}\\left(Y | X=x, Z=z \\right)f(x,z)dxdz \\\\\n",
    "&= \\int \\mathbb{E}\\left(Y |Z=z \\right)dz \\int f(x,z) dx \\text{   (Y and X are independent given Z)}\\\\\n",
    "& = \\int \\mathbb{E} \\left(Y |X=x, Z=z \\right)f_z(z)dz \\\\\n",
    "& = \\int \\mathbb{E} \\left(Y |X=x, Z=z \\right)dF_z(z)dz\n",
    "\\end{align}\n",
    "$$\n",
    "\n",
    "#### (2)\n",
    "\n",
    "From Theorem 7.9, we have\n",
    "$$\n",
    "T(\\hat {F_z}) = \\frac{1}{n} \\sum_{i=1}^n \\mathbb{E}\\left(Y|X=x, Z=z_i\\right)\n",
    "$$\n",
    "\n",
    "Since $\\hat{r}(x, z)$ is a consitent estimate of the regression function $\\mathbb{E}\\left(Y|X=x, Z=z\\right)$, then\n",
    "$$\n",
    "lim_{m\\rightarrow \\infty}P\\left( \\left | \\hat{r}(x,z)-\\mathbb{E}(Y|X=x, Z=z)\\right | > \\epsilon \\right) \\rightarrow 0 \\\\\n",
    "\\rightarrow lim_{m\\rightarrow \\infty} P \\left(\\max \\left( \\left| \\hat{r}(x, Z_i) - \\mathbb{E}\\left(Y|X=x, Z=Z_i\\right) \\right|\\right) \\geq \\epsilon \\right) \\rightarrow 0\n",
    "$$\n",
    "\n",
    "With $|a+b|\\leq |a| + |b|$, we have\n",
    "$$\n",
    "\\begin{align}\n",
    "& \\left|\\frac{1}{n}\\sum_{i=1}^n \\hat{r}(x, Z_i) - \\frac{1}{n} \\sum_{i=1}^n \\mathbb{E}\\left(Y|X=x, Z=Z_i\\right) \\right| \\leq \\frac{1}{n} \\sum_{i=1}^n \\left| \\hat{r}(x, Z_i) - \\mathbb{E}\\left(Y|X=x, Z=Z_i\\right) \\right| \\\\\n",
    "& \\rightarrow \\epsilon \\leq \\left|\\frac{1}{n}\\sum_{i=1}^n \\hat{r}(x, Z_i) - \\frac{1}{n} \\sum_{i=1}^n \\mathbb{E}\\left(Y|X=x, Z=Z_i\\right) \\right| \\leq \\frac{1}{n} \\sum_{i=1}^n \\left| \\hat{r}(x, Z_i) - \\mathbb{E}\\left(Y|X=x, Z=Z_i\\right) \\right| \\\\\n",
    "& \\rightarrow P\\left( \\left|\\frac{1}{n}\\sum_{i=1}^n \\hat{r}(x, Z_i) - \\frac{1}{n} \\sum_{i=1}^n \\mathbb{E}\\left(Y|X=x, Z=Z_i\\right) \\right| \\geq \\epsilon \\right) \n",
    "\\leq P \\left(\\frac{1}{n} \\sum_{i=1}^n \\left| \\hat{r}(x, Z_i) - \\mathbb{E}\\left(Y|X=x, Z=Z_i\\right) \\right| \\geq \\epsilon \\right) \n",
    "\\leq P \\left(\\max \\left| \\hat{r}(x, Z_i) - \\mathbb{E}\\left(Y|X=x, Z=Z_i\\right) \\right| \\geq \\epsilon \\right)\n",
    "\\end{align}\n",
    "$$\n",
    "\n",
    "Since we have \n",
    "$$\n",
    "\\lim_{m\\rightarrow\\infty} P \\left(\\max \\left| \\hat{r}(x, Z_i) - \\mathbb{E}\\left(Y|X=x, Z=Z_i\\right) \\right| \\geq \\epsilon \\right) \\rightarrow 0\n",
    "$$\n",
    ", then \n",
    "$$\n",
    "\\lim_{m\\rightarrow\\infty} P\\left( \\left|\\frac{1}{n}\\sum_{i=1}^n \\hat{r}(x, Z_i) - \\frac{1}{n} \\sum_{i=1}^n \\mathbb{E}\\left(Y|X=x, Z=Z_i\\right) \\right| \\geq \\epsilon \\right) \\rightarrow 0\n",
    "$$\n",
    "\n",
    "Therefore, a consistent estimate of $\\theta(x)$ is\n",
    "$$\n",
    "\\hat \\theta(x) = \\frac{1}{n}\\sum_{i=1}^n \\hat{r}(x, Z_i)\n",
    "$$"
   ]
  },
  {
   "cell_type": "markdown",
   "metadata": {},
   "source": [
    "### 3\n",
    "\n",
    "Causal effect:\n",
    "$$\n",
    "\\begin{align}\n",
    "\\theta &= \\mathbb{E}\\left(C_1\\right) - \\mathbb{E}\\left(C_2\\right) \\\\\n",
    "&= \\mathbb{E}\\left(C_1|X=1\\right)\\mathbb{P}(X=1) + \\mathbb{E}\\left(C_1|X=0\\right)\\mathbb{P}(X=0) - \\mathbb{E}\\left(C_0|X=0\\right)\\mathbb{P}(X=0) - \\mathbb{E}\\left(C_0|X=1\\right)\\mathbb{P}(X=1)\n",
    "\\end{align}\n",
    "$$\n",
    "\n",
    "Of four quantities, we can estimate $\\mathbb{E}\\left(C_1|X=1\\right)\\mathbb{P}(X=1)$ and $\\mathbb{E}\\left(C_0|X=0\\right)\\mathbb{P}(X=0)$ directly from data, so we are left\n",
    "$$\n",
    "\\mathbb{E}\\left(C_1|X=0\\right)\\mathbb{P}(X=0) - \\mathbb{E}\\left(C_0|X=1\\right)\\mathbb{P}(X=1)\n",
    "$$\n",
    "\n",
    "Upper bound is taken when we maximize the first and minimize the second, and lower bound the opposite.\n",
    "\n",
    "$$\n",
    "\\max \\mathbb{E}\\left(C_1|X=0\\right)\\mathbb{P}(X=0) = \\frac{n_0}{n}\n",
    "$$\n",
    "which means that for all the current $X=0$ subjects, their counterfactual result is all 1. \n",
    "\n",
    "$$\n",
    "\\min \\mathbb{E}\\left(C_0|X=1\\right)\\mathbb{P}(X=1) = 0\n",
    "$$\n",
    "\n",
    "Therefore,\n",
    "$$\n",
    "-\\frac{n_1}{n} \\leq \\mathbb{E}\\left(C_1|X=0\\right)\\mathbb{P}(X=0) - \\mathbb{E}\\left(C_0|X=1\\right)\\mathbb{P}(X=1) \\leq \\frac{n_0}{n}\n",
    "$$\n",
    "\n",
    "The width of the bound: $\\frac{n_0}{n} - \\left(-\\frac{n_1}{n}\\right) = 1 $ $\\blacksquare$"
   ]
  },
  {
   "cell_type": "markdown",
   "metadata": {
    "collapsed": true
   },
   "source": [
    "### 4\n",
    "\n",
    "Suppose we have a simple distribution for $(\\beta_1, X)$:\n",
    "\n",
    "| $\\beta_1$ | $X$ | $P$| $Y$|\n",
    "|--|--|--|--|\n",
    "| 2 | 1 | 0.5 | 2 |\n",
    "| 0.5 | 2 | 0.5| 1 |\n",
    "\n",
    "Since $E(Y|X=1)=2$ and $E(Y|X=2)=1$, indeed $E(Y|X=x)$ is a decreasing function of $x$.\n",
    "\n",
    "This is because of the randomness of choosing $X$ for each subject. If we could observe more samples for each subject, we would have seen a different picture."
   ]
  },
  {
   "cell_type": "code",
   "execution_count": null,
   "metadata": {
    "collapsed": true
   },
   "outputs": [],
   "source": []
  },
  {
   "cell_type": "code",
   "execution_count": null,
   "metadata": {
    "collapsed": true
   },
   "outputs": [],
   "source": []
  }
 ],
 "metadata": {
  "kernelspec": {
   "display_name": "Python 3",
   "language": "python",
   "name": "python3"
  },
  "language_info": {
   "codemirror_mode": {
    "name": "ipython",
    "version": 3
   },
   "file_extension": ".py",
   "mimetype": "text/x-python",
   "name": "python",
   "nbconvert_exporter": "python",
   "pygments_lexer": "ipython3",
   "version": "3.6.3"
  }
 },
 "nbformat": 4,
 "nbformat_minor": 2
}
