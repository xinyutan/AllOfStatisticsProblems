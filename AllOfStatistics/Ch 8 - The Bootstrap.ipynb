{
 "cells": [
  {
   "cell_type": "code",
   "execution_count": 1,
   "metadata": {
    "collapsed": true
   },
   "outputs": [],
   "source": [
    "%matplotlib inline\n",
    "import matplotlib.pyplot as plt\n",
    "import numpy as np"
   ]
  },
  {
   "cell_type": "code",
   "execution_count": 2,
   "metadata": {
    "collapsed": true
   },
   "outputs": [],
   "source": [
    "var = lambda x: np.mean((x - x.mean())**2)"
   ]
  },
  {
   "cell_type": "markdown",
   "metadata": {},
   "source": [
    "### 2"
   ]
  },
  {
   "cell_type": "code",
   "execution_count": 20,
   "metadata": {
    "collapsed": true
   },
   "outputs": [],
   "source": [
    "n = 50\n",
    "Y = np.random.normal(0, 1, n)\n",
    "X = np.exp(Y)\n",
    "B = 1000\n",
    "thhat = X.mean()"
   ]
  },
  {
   "cell_type": "code",
   "execution_count": 21,
   "metadata": {},
   "outputs": [
    {
     "data": {
      "text/plain": [
       "(array([ 40.,   5.,   2.,   1.,   2.]),\n",
       " array([  0.21046394,   2.56476701,   4.91907009,   7.27337316,\n",
       "          9.62767623,  11.98197931]),\n",
       " <a list of 5 Patch objects>)"
      ]
     },
     "execution_count": 21,
     "metadata": {},
     "output_type": "execute_result"
    },
    {
     "data": {
      "image/png": "[encoded data removed]",
      "text/plain": [
       "<matplotlib.figure.Figure at 0x10cfc7c88>"
      ]
     },
     "metadata": {},
     "output_type": "display_data"
    }
   ],
   "source": [
    "plt.hist(X, bins=5)"
   ]
  },
  {
   "cell_type": "code",
   "execution_count": 22,
   "metadata": {
    "collapsed": true
   },
   "outputs": [],
   "source": [
    "TB = []\n",
    "for _ in range(B):\n",
    "    XX = np.random.choice(X, size=n, replace=True)\n",
    "    TB.append(np.mean((XX-XX.mean())**3))\n",
    "TB = np.array(TB)"
   ]
  },
  {
   "cell_type": "code",
   "execution_count": 23,
   "metadata": {},
   "outputs": [
    {
     "name": "stdout",
     "output_type": "stream",
     "text": [
      "standard error:  16.979599951\n"
     ]
    }
   ],
   "source": [
    "se = np.sqrt(var(TB))\n",
    "print(\"standard error: \", se)"
   ]
  },
  {
   "cell_type": "code",
   "execution_count": 36,
   "metadata": {},
   "outputs": [
    {
     "name": "stdout",
     "output_type": "stream",
     "text": [
      "Normal interval:  -31.9818461951 35.9365536089\n",
      "Percentile interval:  5.36199396058 71.0520588622\n",
      "Pivotal interval:  -67.0973514483 9.31670137445\n"
     ]
    }
   ],
   "source": [
    "print(\"Normal interval: \", thhat - 2 * se, thhat + 2 * se)\n",
    "print(\"Percentile interval: \", np.percentile(TB, 2.5), np.percentile(TB, 97.5))\n",
    "print(\"Pivotal interval: \", 2*thhat-np.percentile(TB, 97.5), 2*thhat+np.percentile(TB, 2.5))"
   ]
  },
  {
   "cell_type": "markdown",
   "metadata": {
    "collapsed": true
   },
   "source": [
    "### 6"
   ]
  },
  {
   "cell_type": "code",
   "execution_count": 9,
   "metadata": {
    "collapsed": true
   },
   "outputs": [],
   "source": [
    "n = 100\n",
    "X = np.random.normal(5, 1, n)\n",
    "thetahat = np.exp(X.mean())"
   ]
  },
  {
   "cell_type": "code",
   "execution_count": 10,
   "metadata": {
    "collapsed": true
   },
   "outputs": [],
   "source": [
    "B = 1000\n",
    "thetaB = np.zeros((B, ))\n",
    "for i in range(B):\n",
    "    XX = np.random.choice(X, size=n, replace=True)\n",
    "    thetaB[i] = np.exp(XX.mean())"
   ]
  },
  {
   "cell_type": "code",
   "execution_count": 13,
   "metadata": {},
   "outputs": [
    {
     "name": "stdout",
     "output_type": "stream",
     "text": [
      "estimate of theta:  140.035738553\n",
      "standard error of theta:  14.9659280882\n"
     ]
    }
   ],
   "source": [
    "se = np.sqrt(var(thetaB))\n",
    "print(\"estimate of theta: \", thetahat)\n",
    "print(\"standard error of theta: \", se)"
   ]
  },
  {
   "cell_type": "code",
   "execution_count": 30,
   "metadata": {},
   "outputs": [
    {
     "name": "stdout",
     "output_type": "stream",
     "text": [
      "normal 95% confidence interval: (110.103882, 169.967595)\n"
     ]
    }
   ],
   "source": [
    "# normal confidence interval\n",
    "print('normal 95% confidence interval: ({0:3f}, {1:3f})'.format(thetahat - 2*se, thetahat + 2*se))"
   ]
  },
  {
   "cell_type": "code",
   "execution_count": 31,
   "metadata": {},
   "outputs": [
    {
     "name": "stdout",
     "output_type": "stream",
     "text": [
      "percentile 95% confidence interval: (114.425900, 171.989002)\n"
     ]
    }
   ],
   "source": [
    "# percentile\n",
    "print('percentile 95% confidence interval: ({0:3f}, {1:3f})'.format(np.percentile(thetaB, 2.5), \n",
    "                                                                    np.percentile(thetaB, 97.5)))"
   ]
  },
  {
   "cell_type": "code",
   "execution_count": 32,
   "metadata": {},
   "outputs": [
    {
     "name": "stdout",
     "output_type": "stream",
     "text": [
      "pivotal 95% confidence interval: (108.082475, 165.645577)\n"
     ]
    }
   ],
   "source": [
    "# pivotal\n",
    "print('pivotal 95% confidence interval: ({0:3f}, {1:3f})'.format(2*thetahat - np.percentile(thetaB, 97.5), \n",
    "                                                                2*thetahat - np.percentile(thetaB, 2.5)))"
   ]
  },
  {
   "cell_type": "code",
   "execution_count": 35,
   "metadata": {},
   "outputs": [
    {
     "data": {
      "text/plain": [
       "Text(0.5,1,'Histogram of Bootstrap Replications')"
      ]
     },
     "execution_count": 35,
     "metadata": {},
     "output_type": "execute_result"
    },
    {
     "data": {
      "image/png": "[encoded data removed]",
      "text/plain": [
       "<matplotlib.figure.Figure at 0x11add17b8>"
      ]
     },
     "metadata": {},
     "output_type": "display_data"
    }
   ],
   "source": [
    "plt.hist(thetaB, bins=20)\n",
    "plt.title(\"Histogram of Bootstrap Replications\")"
   ]
  },
  {
   "cell_type": "code",
   "execution_count": 37,
   "metadata": {},
   "outputs": [
    {
     "data": {
      "text/plain": [
       "Text(0.5,1,'Histogram of True Sampling Distribution')"
      ]
     },
     "execution_count": 37,
     "metadata": {},
     "output_type": "execute_result"
    },
    {
     "data": {
      "image/png": "[encoded data removed]",
      "text/plain": [
       "<matplotlib.figure.Figure at 0x11ab7b668>"
      ]
     },
     "metadata": {},
     "output_type": "display_data"
    }
   ],
   "source": [
    "# true sampling distribution of theta\n",
    "thetatrue = np.zeros((B,))\n",
    "for i in range(B):\n",
    "    Xr = np.random.normal(5, 1, n)\n",
    "    thetatrue[i] = np.exp(Xr.mean())\n",
    "\n",
    "plt.hist(thetatrue, bins=20)\n",
    "plt.title(\"Histogram of True Sampling Distribution\")"
   ]
  },
  {
   "cell_type": "markdown",
   "metadata": {
    "collapsed": true
   },
   "source": [
    "### 7\n",
    "\n",
    "Let $X_1, X_2, \\cdots, X_n \\sim \\text{Uniform}(0, \\theta)$. Let $\\hat \\theta = X_{\\max} = \\max \\{X_1, \\cdots, X_n \\}$.\n",
    "Find the distribution of $\\hat \\theta$.\n",
    "\n",
    "$$\n",
    "\\begin{align}\n",
    "F_{\\hat \\theta} (x) &= P(\\hat \\theta \\leq x) \\\\\n",
    "&= P(X_{\\max} = \\max \\{X_1, \\cdots, X_n \\} \\leq x) \\\\ \n",
    "&= P(X_1 \\leq x \\cap X_2 \\leq x \\cap \\cdots \\cap X_n \\leq x)\\\\\n",
    "&= P(X_1 \\leq x) \\cdots P(X_n \\leq x) = x^n\n",
    "\\end{align}\n",
    "$$\n",
    "where $x \\in [0, 1]$.\n",
    "\n",
    "Therefore, $$f_{\\hat \\theta}(x) = n x ^{n-1}$$"
   ]
  },
  {
   "cell_type": "code",
   "execution_count": 9,
   "metadata": {},
   "outputs": [
    {
     "data": {
      "text/plain": [
       "Text(0.5,1,'True/Theoretical distribution of theta')"
      ]
     },
     "execution_count": 9,
     "metadata": {},
     "output_type": "execute_result"
    },
    {
     "data": {
      "image/png": "[encoded data removed]",
      "text/plain": [
       "<matplotlib.figure.Figure at 0x105cdc320>"
      ]
     },
     "metadata": {},
     "output_type": "display_data"
    }
   ],
   "source": [
    "x = np.linspace(0, 1, 1000)\n",
    "plt.plot(x, 50 * (x ** 49))\n",
    "plt.title(\"True/Theoretical distribution of theta\")"
   ]
  },
  {
   "cell_type": "code",
   "execution_count": 3,
   "metadata": {},
   "outputs": [
    {
     "name": "stdout",
     "output_type": "stream",
     "text": [
      "(50,)\n"
     ]
    }
   ],
   "source": [
    "n = 50\n",
    "X = np.random.uniform(0, 1, n)\n",
    "print(X.shape)"
   ]
  },
  {
   "cell_type": "code",
   "execution_count": 5,
   "metadata": {},
   "outputs": [
    {
     "data": {
      "text/plain": [
       "Text(0.5,1,'True distribution of theta')"
      ]
     },
     "execution_count": 5,
     "metadata": {},
     "output_type": "execute_result"
    },
    {
     "data": {
      "image/png": "[encoded data removed]",
      "text/plain": [
       "<matplotlib.figure.Figure at 0x105d64588>"
      ]
     },
     "metadata": {},
     "output_type": "display_data"
    }
   ],
   "source": [
    "# simulation true distribution of theta = max{X1, X2, ..., Xn}\n",
    "B = 1000\n",
    "theta_true = np.zeros((B, ))\n",
    "\n",
    "for i in range(B):\n",
    "    Xs = np.random.uniform(0, 1, n)\n",
    "    theta_true[i] = Xs.max()\n",
    "\n",
    "plt.hist(theta_true, bins=40)\n",
    "plt.title(\"True distribution of theta\")"
   ]
  },
  {
   "cell_type": "code",
   "execution_count": 6,
   "metadata": {},
   "outputs": [
    {
     "data": {
      "text/plain": [
       "Text(0.5,1,'Bootstrap distribution of theta')"
      ]
     },
     "execution_count": 6,
     "metadata": {},
     "output_type": "execute_result"
    },
    {
     "data": {
      "image/png": "[encoded data removed]",
      "text/plain": [
       "<matplotlib.figure.Figure at 0x1056c5f98>"
      ]
     },
     "metadata": {},
     "output_type": "display_data"
    }
   ],
   "source": [
    "# bootstrap\n",
    "theta_B = np.zeros((B, ))\n",
    "\n",
    "for i in range(B):\n",
    "    Xb = np.random.choice(X, size=n, replace=True)\n",
    "    theta_B[i] = Xb.max()\n",
    "    \n",
    "plt.hist(theta_B, bins=40)\n",
    "plt.title(\"Bootstrap distribution of theta\")"
   ]
  },
  {
   "cell_type": "code",
   "execution_count": null,
   "metadata": {
    "collapsed": true
   },
   "outputs": [],
   "source": []
  }
 ],
 "metadata": {
  "kernelspec": {
   "display_name": "Python 3",
   "language": "python",
   "name": "python3"
  },
  "language_info": {
   "codemirror_mode": {
    "name": "ipython",
    "version": 3
   },
   "file_extension": ".py",
   "mimetype": "text/x-python",
   "name": "python",
   "nbconvert_exporter": "python",
   "pygments_lexer": "ipython3",
   "version": "3.6.3"
  }
 },
 "nbformat": 4,
 "nbformat_minor": 2
}
