{
 "cells": [
  {
   "cell_type": "code",
   "execution_count": 14,
   "metadata": {
    "collapsed": true
   },
   "outputs": [],
   "source": [
    "%matplotlib inline\n",
    "import numpy as np\n",
    "import matplotlib.pyplot as plt\n",
    "from scipy.stats import norm"
   ]
  },
  {
   "cell_type": "markdown",
   "metadata": {},
   "source": [
    "### 7"
   ]
  },
  {
   "cell_type": "code",
   "execution_count": 3,
   "metadata": {
    "collapsed": true
   },
   "outputs": [],
   "source": [
    "Xm = np.array([0.225, 0.262, 0.217, 0.240, 0.23, 0.229, 0.235, 0.217])\n",
    "Xs = np.array([0.209, 0.205, 0.196, 0.210, 0.202, 0.207, 0.224, 0.223, 0.220, 0.201])"
   ]
  },
  {
   "cell_type": "code",
   "execution_count": 10,
   "metadata": {
    "scrolled": true
   },
   "outputs": [
    {
     "name": "stdout",
     "output_type": "stream",
     "text": [
      "W:  1.35047976001\n",
      "p-value:  0.176862141692\n",
      "confidence interval: (-0.0100, 0.0544)\n"
     ]
    }
   ],
   "source": [
    "## Wald test\n",
    "\n",
    "Xm_bar = Xm.mean()\n",
    "Xs_bar = Xs.mean()\n",
    "\n",
    "se_hat = np.sqrt(Xm.var() + Xs.var())\n",
    "\n",
    "W = (Xm_bar - Xs_bar) / se_hat\n",
    "\n",
    "print(\"W: \", W)\n",
    "print(\"p-value: \", 2 * norm.cdf(-W))\n",
    "\n",
    "# 95% confidence interval\n",
    "l = Xm_bar - Xs_bar - 1.96 * se_hat\n",
    "u = Xm_bar - Xs_bar + 1.96 * se_hat\n",
    "print(\"confidence interval: (%.4f, %.4f)\"%(l, u))"
   ]
  },
  {
   "cell_type": "markdown",
   "metadata": {},
   "source": [
    "There is no difference between two authors."
   ]
  },
  {
   "cell_type": "code",
   "execution_count": 30,
   "metadata": {
    "scrolled": true
   },
   "outputs": [
    {
     "name": "stdout",
     "output_type": "stream",
     "text": [
      "p_value from permutation test:  0.002\n"
     ]
    }
   ],
   "source": [
    "## permutation test\n",
    "\n",
    "B = 1000\n",
    "m = len(Xm)\n",
    "s = len(Xs)\n",
    "X = np.concatenate([Xm, Xs])\n",
    "\n",
    "Db = np.zeros((B, ))\n",
    "\n",
    "for i in range(B):\n",
    "    Xp = np.random.permutation(X)\n",
    "    Db[i] = Xp[:m].mean() - Xp[m:].mean()\n",
    "\n",
    "pvalueb = np.mean(np.abs(Db) > np.abs(Xm_bar - Xs_bar))\n",
    "print(\"p_value from permutation test: \", pvalueb)"
   ]
  },
  {
   "cell_type": "markdown",
   "metadata": {},
   "source": [
    "Apparently, from permutation test, there is a difference... The reason might be because the sample size is too small, Wald test has low power?"
   ]
  },
  {
   "cell_type": "markdown",
   "metadata": {
    "collapsed": true
   },
   "source": [
    "### 10"
   ]
  },
  {
   "cell_type": "code",
   "execution_count": 2,
   "metadata": {
    "collapsed": true
   },
   "outputs": [],
   "source": [
    "# Chinese\n",
    "Xc = np.array([55, 33, 70, 49])\n",
    "# Jewish\n",
    "Xj = np.array([141, 145, 139, 161])"
   ]
  },
  {
   "cell_type": "markdown",
   "metadata": {},
   "source": [
    "We will test $H_0: p = p_0, p_0 = (0.25, 0.25, 0.25, 0.5)$ versus $H_1: p \\neq p_0$ via $\\chi^2$ test."
   ]
  },
  {
   "cell_type": "code",
   "execution_count": 4,
   "metadata": {
    "collapsed": true
   },
   "outputs": [],
   "source": [
    "Tc = np.sum((Xc - Xc.mean())**2/Xc.mean())\n",
    "Tj = np.sum((Xj - Xj.mean())**2/Xj.mean())"
   ]
  },
  {
   "cell_type": "code",
   "execution_count": 5,
   "metadata": {},
   "outputs": [
    {
     "name": "stdout",
     "output_type": "stream",
     "text": [
      "Chi square test statistic for Chinese women: 13.5797, Jewish women: 2.0410\n"
     ]
    }
   ],
   "source": [
    "print(\"Chi square test statistic for Chinese women: %.4f, Jewish women: %.4f\"%(Tc, Tj))"
   ]
  },
  {
   "cell_type": "markdown",
   "metadata": {},
   "source": [
    "Since 13.5797 is larger than 7.185, the $\\alpha=0.05$ value for $\\chi_3^2$. Then for Chinese women, the evidence is against null hypothesis, i.e., it's unlikely that their death rate in -2, -1, 1, 2 weeks of the holiday distribute evenly. Jewish women fail to reject the null hypothesis."
   ]
  },
  {
   "cell_type": "markdown",
   "metadata": {
    "collapsed": true
   },
   "source": [
    "### 11\n",
    "\n",
    "We want to test whether drug reduces the nausea by testing the $\\hat \\delta = p_d - p_p$, where $p_d$ is the rate of nausea with drug, and $p_p$ the rate with placebo. The null hypothesis: $H_0: \\hat \\delta = 0$, $H_1: \\hat \\delta \\neq 0$.\n",
    "\n",
    "Test statistic:\n",
    "$$\n",
    "W  = \\frac{\\hat \\delta - 0}{\\hat {se}} = \\frac{\\hat {p1} - \\hat {p2}}{\\sqrt{\\frac{\\hat {p1}(1-\\hat {p1})}{m} + \\frac{\\hat {p2}(1-\\hat {p2})}{n}}}\n",
    "$$"
   ]
  },
  {
   "cell_type": "code",
   "execution_count": 10,
   "metadata": {
    "collapsed": true
   },
   "outputs": [],
   "source": [
    "# placebo\n",
    "p0 = 45/80\n",
    "n0 = 80\n",
    "\n",
    "# chlorpromazine\n",
    "pc = 26/75\n",
    "nc = 75\n",
    "\n",
    "# Dimenhydrinate\n",
    "pd = 52/85\n",
    "nd = 85\n",
    "\n",
    "# Pentobarbital 100 mg\n",
    "pp100 = 35/65\n",
    "np100 = 65\n",
    "\n",
    "# Pentobarbital 150 mg\n",
    "pp150 = 37/85\n",
    "np150 = 85"
   ]
  },
  {
   "cell_type": "code",
   "execution_count": 8,
   "metadata": {
    "collapsed": true
   },
   "outputs": [],
   "source": [
    "def W(p1, n1, p2, n2):\n",
    "    return (p1-p2)/np.sqrt(p1*(1-p1)/n1 + p2*(1-p2)/n2)"
   ]
  },
  {
   "cell_type": "code",
   "execution_count": 11,
   "metadata": {},
   "outputs": [
    {
     "name": "stdout",
     "output_type": "stream",
     "text": [
      "-2.764363778 0.642987261782 -0.289398141761 -1.64660513931\n"
     ]
    }
   ],
   "source": [
    "Wc = W(pc, nc, p0, n0)\n",
    "Wd = W(pd, nd, p0, n0)\n",
    "Wp100 = W(pp100, np100, p0, n0)\n",
    "Wp150 = W(pp150, np150, p0, n0)\n",
    "print(Wc, Wd, Wp100, Wp150)"
   ]
  },
  {
   "cell_type": "markdown",
   "metadata": {},
   "source": [
    "The size $\\alpha$ Wald test is to reject $H_0$ when $|W|>z_{\\alpha/2}$. For $\\alpha=0.05$, then the threshold is 1.96. Then above numbers show that only `chlorpromazine` rejects the null hypothesis."
   ]
  },
  {
   "cell_type": "code",
   "execution_count": 15,
   "metadata": {},
   "outputs": [
    {
     "name": "stdout",
     "output_type": "stream",
     "text": [
      "0.00570339155526 0.520232365423 0.772276716851 0.0996392334182\n"
     ]
    }
   ],
   "source": [
    "p = lambda x: 2 * norm.cdf(-np.abs(x))\n",
    "pc = p(Wc)\n",
    "pd = p(Wd)\n",
    "pp100 = p(Wp100)\n",
    "pp150 = p(Wp150)\n",
    "\n",
    "print(pc, pd, pp100, pp150)"
   ]
  },
  {
   "cell_type": "markdown",
   "metadata": {},
   "source": [
    "For Bonferroni correction, then the test rejects any hypothesis whose p-value is less than $\\alpha/4 = 0.05 /4 = 0.0125$. For BH test, we find the largest $i$ such that $P_{(i)} < i\\alpha / m$. Still there is only one, `chlorpromazine`, which rejects the null hypothesis.\n"
   ]
  },
  {
   "cell_type": "markdown",
   "metadata": {},
   "source": [
    "### 12\n",
    "\n",
    "$$\\hat \\lambda = \\bar X = \\frac{1}{n} \\sum_{i=1}^n X_i$$\n",
    "$$\\hat {se} = \\sqrt{\\frac{\\hat \\lambda}{n}}$$\n",
    "\n",
    "The test statistic $W$:\n",
    "$$\n",
    "W = \\frac{\\hat \\lambda - \\lambda_0}{\\hat {se}}\n",
    "$$"
   ]
  },
  {
   "cell_type": "code",
   "execution_count": 18,
   "metadata": {},
   "outputs": [
    {
     "name": "stdout",
     "output_type": "stream",
     "text": [
      "55\n"
     ]
    }
   ],
   "source": [
    "def W(X, lambda0):\n",
    "    lhat = X.mean()\n",
    "    se = np.sqrt(X.mean()/len(X))\n",
    "    return np.abs((lhat - lambda0)/se)\n",
    "\n",
    "n = 20\n",
    "lambda0 = 1\n",
    "alpha = 0.05\n",
    "\n",
    "N = 1000\n",
    "count = 0\n",
    "for i in range(N):\n",
    "    X = np.random.poisson(lambda0, (n,))\n",
    "    w = W(X, lambda0)\n",
    "    if w > 1.96:\n",
    "        count += 1\n",
    "print(count)"
   ]
  },
  {
   "cell_type": "markdown",
   "metadata": {},
   "source": [
    "Type I rate is 55/1000 = 0.055, very close to 5%."
   ]
  },
  {
   "cell_type": "code",
   "execution_count": null,
   "metadata": {
    "collapsed": true
   },
   "outputs": [],
   "source": []
  }
 ],
 "metadata": {
  "kernelspec": {
   "display_name": "Python 3",
   "language": "python",
   "name": "python3"
  },
  "language_info": {
   "codemirror_mode": {
    "name": "ipython",
    "version": 3
   },
   "file_extension": ".py",
   "mimetype": "text/x-python",
   "name": "python",
   "nbconvert_exporter": "python",
   "pygments_lexer": "ipython3",
   "version": "3.6.3"
  }
 },
 "nbformat": 4,
 "nbformat_minor": 2
}
